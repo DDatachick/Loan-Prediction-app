{
  "nbformat": 4,
  "nbformat_minor": 0,
  "metadata": {
    "colab": {
      "name": "Loan prediction.ipynb",
      "provenance": [],
      "collapsed_sections": [],
      "toc_visible": true,
      "authorship_tag": "ABX9TyNjyLB1uGOFMs+lE4N1TmaR",
      "include_colab_link": true
    },
    "kernelspec": {
      "name": "python3",
      "display_name": "Python 3"
    },
    "accelerator": "GPU"
  },
  "cells": [
    {
      "cell_type": "markdown",
      "metadata": {
        "id": "view-in-github",
        "colab_type": "text"
      },
      "source": [
        "<a href=\"https://colab.research.google.com/github/DDatachick/Loan-Prediction-app/blob/master/Loan_prediction.ipynb\" target=\"_parent\"><img src=\"https://colab.research.google.com/assets/colab-badge.svg\" alt=\"Open In Colab\"/></a>"
      ]
    },
    {
      "cell_type": "code",
      "metadata": {
        "id": "v1UD2_7yZ5K7",
        "colab_type": "code",
        "outputId": "102b56fa-0acd-49c1-bd30-4230575e9e58",
        "colab": {
          "base_uri": "https://localhost:8080/",
          "height": 377
        }
      },
      "source": [
        "!pip install preprocessing"
      ],
      "execution_count": 0,
      "outputs": [
        {
          "output_type": "stream",
          "text": [
            "Collecting preprocessing\n",
            "\u001b[?25l  Downloading https://files.pythonhosted.org/packages/79/f9/cadc71dbd774398e486f0608fb6746de36f562edf32fc59ebbe94a589c79/preprocessing-0.1.13-py3-none-any.whl (349kB)\n",
            "\r\u001b[K     |█                               | 10kB 20.2MB/s eta 0:00:01\r\u001b[K     |█▉                              | 20kB 3.3MB/s eta 0:00:01\r\u001b[K     |██▉                             | 30kB 4.7MB/s eta 0:00:01\r\u001b[K     |███▊                            | 40kB 3.1MB/s eta 0:00:01\r\u001b[K     |████▊                           | 51kB 3.9MB/s eta 0:00:01\r\u001b[K     |█████▋                          | 61kB 4.5MB/s eta 0:00:01\r\u001b[K     |██████▋                         | 71kB 5.2MB/s eta 0:00:01\r\u001b[K     |███████▌                        | 81kB 5.9MB/s eta 0:00:01\r\u001b[K     |████████▍                       | 92kB 6.5MB/s eta 0:00:01\r\u001b[K     |█████████▍                      | 102kB 5.1MB/s eta 0:00:01\r\u001b[K     |██████████▎                     | 112kB 5.1MB/s eta 0:00:01\r\u001b[K     |███████████▎                    | 122kB 5.1MB/s eta 0:00:01\r\u001b[K     |████████████▏                   | 133kB 5.1MB/s eta 0:00:01\r\u001b[K     |█████████████▏                  | 143kB 5.1MB/s eta 0:00:01\r\u001b[K     |██████████████                  | 153kB 5.1MB/s eta 0:00:01\r\u001b[K     |███████████████                 | 163kB 5.1MB/s eta 0:00:01\r\u001b[K     |████████████████                | 174kB 5.1MB/s eta 0:00:01\r\u001b[K     |████████████████▉               | 184kB 5.1MB/s eta 0:00:01\r\u001b[K     |█████████████████▉              | 194kB 5.1MB/s eta 0:00:01\r\u001b[K     |██████████████████▊             | 204kB 5.1MB/s eta 0:00:01\r\u001b[K     |███████████████████▊            | 215kB 5.1MB/s eta 0:00:01\r\u001b[K     |████████████████████▋           | 225kB 5.1MB/s eta 0:00:01\r\u001b[K     |█████████████████████▋          | 235kB 5.1MB/s eta 0:00:01\r\u001b[K     |██████████████████████▌         | 245kB 5.1MB/s eta 0:00:01\r\u001b[K     |███████████████████████▍        | 256kB 5.1MB/s eta 0:00:01\r\u001b[K     |████████████████████████▍       | 266kB 5.1MB/s eta 0:00:01\r\u001b[K     |█████████████████████████▎      | 276kB 5.1MB/s eta 0:00:01\r\u001b[K     |██████████████████████████▎     | 286kB 5.1MB/s eta 0:00:01\r\u001b[K     |███████████████████████████▏    | 296kB 5.1MB/s eta 0:00:01\r\u001b[K     |████████████████████████████▏   | 307kB 5.1MB/s eta 0:00:01\r\u001b[K     |█████████████████████████████   | 317kB 5.1MB/s eta 0:00:01\r\u001b[K     |██████████████████████████████  | 327kB 5.1MB/s eta 0:00:01\r\u001b[K     |███████████████████████████████ | 337kB 5.1MB/s eta 0:00:01\r\u001b[K     |███████████████████████████████▉| 348kB 5.1MB/s eta 0:00:01\r\u001b[K     |████████████████████████████████| 358kB 5.1MB/s \n",
            "\u001b[?25hCollecting nltk==3.2.4\n",
            "\u001b[?25l  Downloading https://files.pythonhosted.org/packages/cd/c2/858e0708b497116ae45cf5c6b1f66984ac60729c61e49df6c1c0b808d1e4/nltk-3.2.4.tar.gz (1.2MB)\n",
            "\r\u001b[K     |▎                               | 10kB 29.5MB/s eta 0:00:01\r\u001b[K     |▋                               | 20kB 35.6MB/s eta 0:00:01\r\u001b[K     |▉                               | 30kB 42.1MB/s eta 0:00:01\r\u001b[K     |█▏                              | 40kB 46.3MB/s eta 0:00:01\r\u001b[K     |█▍                              | 51kB 47.3MB/s eta 0:00:01\r\u001b[K     |█▊                              | 61kB 50.3MB/s eta 0:00:01\r\u001b[K     |██                              | 71kB 51.8MB/s eta 0:00:01\r\u001b[K     |██▎                             | 81kB 52.4MB/s eta 0:00:01\r\u001b[K     |██▌                             | 92kB 54.3MB/s eta 0:00:01\r\u001b[K     |██▉                             | 102kB 55.7MB/s eta 0:00:01\r\u001b[K     |███                             | 112kB 55.7MB/s eta 0:00:01\r\u001b[K     |███▍                            | 122kB 55.7MB/s eta 0:00:01\r\u001b[K     |███▋                            | 133kB 55.7MB/s eta 0:00:01\r\u001b[K     |████                            | 143kB 55.7MB/s eta 0:00:01\r\u001b[K     |████▏                           | 153kB 55.7MB/s eta 0:00:01\r\u001b[K     |████▌                           | 163kB 55.7MB/s eta 0:00:01\r\u001b[K     |████▊                           | 174kB 55.7MB/s eta 0:00:01\r\u001b[K     |█████                           | 184kB 55.7MB/s eta 0:00:01\r\u001b[K     |█████▎                          | 194kB 55.7MB/s eta 0:00:01\r\u001b[K     |█████▋                          | 204kB 55.7MB/s eta 0:00:01\r\u001b[K     |██████                          | 215kB 55.7MB/s eta 0:00:01\r\u001b[K     |██████▏                         | 225kB 55.7MB/s eta 0:00:01\r\u001b[K     |██████▌                         | 235kB 55.7MB/s eta 0:00:01\r\u001b[K     |██████▊                         | 245kB 55.7MB/s eta 0:00:01\r\u001b[K     |███████                         | 256kB 55.7MB/s eta 0:00:01\r\u001b[K     |███████▎                        | 266kB 55.7MB/s eta 0:00:01\r\u001b[K     |███████▋                        | 276kB 55.7MB/s eta 0:00:01\r\u001b[K     |███████▉                        | 286kB 55.7MB/s eta 0:00:01\r\u001b[K     |████████▏                       | 296kB 55.7MB/s eta 0:00:01\r\u001b[K     |████████▍                       | 307kB 55.7MB/s eta 0:00:01\r\u001b[K     |████████▊                       | 317kB 55.7MB/s eta 0:00:01\r\u001b[K     |█████████                       | 327kB 55.7MB/s eta 0:00:01\r\u001b[K     |█████████▎                      | 337kB 55.7MB/s eta 0:00:01\r\u001b[K     |█████████▌                      | 348kB 55.7MB/s eta 0:00:01\r\u001b[K     |█████████▉                      | 358kB 55.7MB/s eta 0:00:01\r\u001b[K     |██████████                      | 368kB 55.7MB/s eta 0:00:01\r\u001b[K     |██████████▍                     | 378kB 55.7MB/s eta 0:00:01\r\u001b[K     |██████████▋                     | 389kB 55.7MB/s eta 0:00:01\r\u001b[K     |███████████                     | 399kB 55.7MB/s eta 0:00:01\r\u001b[K     |███████████▎                    | 409kB 55.7MB/s eta 0:00:01\r\u001b[K     |███████████▌                    | 419kB 55.7MB/s eta 0:00:01\r\u001b[K     |███████████▉                    | 430kB 55.7MB/s eta 0:00:01\r\u001b[K     |████████████                    | 440kB 55.7MB/s eta 0:00:01\r\u001b[K     |████████████▍                   | 450kB 55.7MB/s eta 0:00:01\r\u001b[K     |████████████▋                   | 460kB 55.7MB/s eta 0:00:01\r\u001b[K     |█████████████                   | 471kB 55.7MB/s eta 0:00:01\r\u001b[K     |█████████████▏                  | 481kB 55.7MB/s eta 0:00:01\r\u001b[K     |█████████████▌                  | 491kB 55.7MB/s eta 0:00:01\r\u001b[K     |█████████████▊                  | 501kB 55.7MB/s eta 0:00:01\r\u001b[K     |██████████████                  | 512kB 55.7MB/s eta 0:00:01\r\u001b[K     |██████████████▎                 | 522kB 55.7MB/s eta 0:00:01\r\u001b[K     |██████████████▋                 | 532kB 55.7MB/s eta 0:00:01\r\u001b[K     |██████████████▉                 | 542kB 55.7MB/s eta 0:00:01\r\u001b[K     |███████████████▏                | 552kB 55.7MB/s eta 0:00:01\r\u001b[K     |███████████████▍                | 563kB 55.7MB/s eta 0:00:01\r\u001b[K     |███████████████▊                | 573kB 55.7MB/s eta 0:00:01\r\u001b[K     |████████████████                | 583kB 55.7MB/s eta 0:00:01\r\u001b[K     |████████████████▎               | 593kB 55.7MB/s eta 0:00:01\r\u001b[K     |████████████████▋               | 604kB 55.7MB/s eta 0:00:01\r\u001b[K     |████████████████▉               | 614kB 55.7MB/s eta 0:00:01\r\u001b[K     |█████████████████▏              | 624kB 55.7MB/s eta 0:00:01\r\u001b[K     |█████████████████▍              | 634kB 55.7MB/s eta 0:00:01\r\u001b[K     |█████████████████▊              | 645kB 55.7MB/s eta 0:00:01\r\u001b[K     |██████████████████              | 655kB 55.7MB/s eta 0:00:01\r\u001b[K     |██████████████████▎             | 665kB 55.7MB/s eta 0:00:01\r\u001b[K     |██████████████████▌             | 675kB 55.7MB/s eta 0:00:01\r\u001b[K     |██████████████████▉             | 686kB 55.7MB/s eta 0:00:01\r\u001b[K     |███████████████████             | 696kB 55.7MB/s eta 0:00:01\r\u001b[K     |███████████████████▍            | 706kB 55.7MB/s eta 0:00:01\r\u001b[K     |███████████████████▋            | 716kB 55.7MB/s eta 0:00:01\r\u001b[K     |████████████████████            | 727kB 55.7MB/s eta 0:00:01\r\u001b[K     |████████████████████▏           | 737kB 55.7MB/s eta 0:00:01\r\u001b[K     |████████████████████▌           | 747kB 55.7MB/s eta 0:00:01\r\u001b[K     |████████████████████▊           | 757kB 55.7MB/s eta 0:00:01\r\u001b[K     |█████████████████████           | 768kB 55.7MB/s eta 0:00:01\r\u001b[K     |█████████████████████▎          | 778kB 55.7MB/s eta 0:00:01\r\u001b[K     |█████████████████████▋          | 788kB 55.7MB/s eta 0:00:01\r\u001b[K     |██████████████████████          | 798kB 55.7MB/s eta 0:00:01\r\u001b[K     |██████████████████████▏         | 808kB 55.7MB/s eta 0:00:01\r\u001b[K     |██████████████████████▌         | 819kB 55.7MB/s eta 0:00:01\r\u001b[K     |██████████████████████▊         | 829kB 55.7MB/s eta 0:00:01\r\u001b[K     |███████████████████████         | 839kB 55.7MB/s eta 0:00:01\r\u001b[K     |███████████████████████▎        | 849kB 55.7MB/s eta 0:00:01\r\u001b[K     |███████████████████████▋        | 860kB 55.7MB/s eta 0:00:01\r\u001b[K     |███████████████████████▉        | 870kB 55.7MB/s eta 0:00:01\r\u001b[K     |████████████████████████▏       | 880kB 55.7MB/s eta 0:00:01\r\u001b[K     |████████████████████████▍       | 890kB 55.7MB/s eta 0:00:01\r\u001b[K     |████████████████████████▊       | 901kB 55.7MB/s eta 0:00:01\r\u001b[K     |█████████████████████████       | 911kB 55.7MB/s eta 0:00:01\r\u001b[K     |█████████████████████████▎      | 921kB 55.7MB/s eta 0:00:01\r\u001b[K     |█████████████████████████▌      | 931kB 55.7MB/s eta 0:00:01\r\u001b[K     |█████████████████████████▉      | 942kB 55.7MB/s eta 0:00:01\r\u001b[K     |██████████████████████████      | 952kB 55.7MB/s eta 0:00:01\r\u001b[K     |██████████████████████████▍     | 962kB 55.7MB/s eta 0:00:01\r\u001b[K     |██████████████████████████▋     | 972kB 55.7MB/s eta 0:00:01\r\u001b[K     |███████████████████████████     | 983kB 55.7MB/s eta 0:00:01\r\u001b[K     |███████████████████████████▎    | 993kB 55.7MB/s eta 0:00:01\r\u001b[K     |███████████████████████████▌    | 1.0MB 55.7MB/s eta 0:00:01\r\u001b[K     |███████████████████████████▉    | 1.0MB 55.7MB/s eta 0:00:01\r\u001b[K     |████████████████████████████    | 1.0MB 55.7MB/s eta 0:00:01\r\u001b[K     |████████████████████████████▍   | 1.0MB 55.7MB/s eta 0:00:01\r\u001b[K     |████████████████████████████▋   | 1.0MB 55.7MB/s eta 0:00:01\r\u001b[K     |█████████████████████████████   | 1.1MB 55.7MB/s eta 0:00:01\r\u001b[K     |█████████████████████████████▏  | 1.1MB 55.7MB/s eta 0:00:01\r\u001b[K     |█████████████████████████████▌  | 1.1MB 55.7MB/s eta 0:00:01\r\u001b[K     |█████████████████████████████▊  | 1.1MB 55.7MB/s eta 0:00:01\r\u001b[K     |██████████████████████████████  | 1.1MB 55.7MB/s eta 0:00:01\r\u001b[K     |██████████████████████████████▎ | 1.1MB 55.7MB/s eta 0:00:01\r\u001b[K     |██████████████████████████████▋ | 1.1MB 55.7MB/s eta 0:00:01\r\u001b[K     |██████████████████████████████▉ | 1.1MB 55.7MB/s eta 0:00:01\r\u001b[K     |███████████████████████████████▏| 1.1MB 55.7MB/s eta 0:00:01\r\u001b[K     |███████████████████████████████▍| 1.1MB 55.7MB/s eta 0:00:01\r\u001b[K     |███████████████████████████████▊| 1.2MB 55.7MB/s eta 0:00:01\r\u001b[K     |████████████████████████████████| 1.2MB 55.7MB/s eta 0:00:01\r\u001b[K     |████████████████████████████████| 1.2MB 55.7MB/s \n",
            "\u001b[?25hCollecting sphinx-rtd-theme==0.2.4\n",
            "\u001b[?25l  Downloading https://files.pythonhosted.org/packages/d7/50/849cd05961e7bafda2e0846ba80fa03f5a16a55fc5acc1d9f6bc79eb6fd9/sphinx_rtd_theme-0.2.4-py2.py3-none-any.whl (1.4MB)\n",
            "\r\u001b[K     |▎                               | 10kB 3.3MB/s eta 0:00:01\r\u001b[K     |▌                               | 20kB 5.6MB/s eta 0:00:01\r\u001b[K     |▊                               | 30kB 7.9MB/s eta 0:00:01\r\u001b[K     |█                               | 40kB 9.7MB/s eta 0:00:01\r\u001b[K     |█▏                              | 51kB 11.2MB/s eta 0:00:01\r\u001b[K     |█▍                              | 61kB 13.0MB/s eta 0:00:01\r\u001b[K     |█▋                              | 71kB 14.6MB/s eta 0:00:01\r\u001b[K     |█▉                              | 81kB 16.0MB/s eta 0:00:01\r\u001b[K     |██▏                             | 92kB 17.2MB/s eta 0:00:01\r\u001b[K     |██▍                             | 102kB 18.6MB/s eta 0:00:01\r\u001b[K     |██▋                             | 112kB 18.6MB/s eta 0:00:01\r\u001b[K     |██▉                             | 122kB 18.6MB/s eta 0:00:01\r\u001b[K     |███                             | 133kB 18.6MB/s eta 0:00:01\r\u001b[K     |███▎                            | 143kB 18.6MB/s eta 0:00:01\r\u001b[K     |███▌                            | 153kB 18.6MB/s eta 0:00:01\r\u001b[K     |███▊                            | 163kB 18.6MB/s eta 0:00:01\r\u001b[K     |████                            | 174kB 18.6MB/s eta 0:00:01\r\u001b[K     |████▎                           | 184kB 18.6MB/s eta 0:00:01\r\u001b[K     |████▌                           | 194kB 18.6MB/s eta 0:00:01\r\u001b[K     |████▊                           | 204kB 18.6MB/s eta 0:00:01\r\u001b[K     |█████                           | 215kB 18.6MB/s eta 0:00:01\r\u001b[K     |█████▏                          | 225kB 18.6MB/s eta 0:00:01\r\u001b[K     |█████▍                          | 235kB 18.6MB/s eta 0:00:01\r\u001b[K     |█████▋                          | 245kB 18.6MB/s eta 0:00:01\r\u001b[K     |█████▉                          | 256kB 18.6MB/s eta 0:00:01\r\u001b[K     |██████▏                         | 266kB 18.6MB/s eta 0:00:01\r\u001b[K     |██████▍                         | 276kB 18.6MB/s eta 0:00:01\r\u001b[K     |██████▋                         | 286kB 18.6MB/s eta 0:00:01\r\u001b[K     |██████▉                         | 296kB 18.6MB/s eta 0:00:01\r\u001b[K     |███████                         | 307kB 18.6MB/s eta 0:00:01\r\u001b[K     |███████▎                        | 317kB 18.6MB/s eta 0:00:01\r\u001b[K     |███████▌                        | 327kB 18.6MB/s eta 0:00:01\r\u001b[K     |███████▊                        | 337kB 18.6MB/s eta 0:00:01\r\u001b[K     |████████                        | 348kB 18.6MB/s eta 0:00:01\r\u001b[K     |████████▎                       | 358kB 18.6MB/s eta 0:00:01\r\u001b[K     |████████▌                       | 368kB 18.6MB/s eta 0:00:01\r\u001b[K     |████████▊                       | 378kB 18.6MB/s eta 0:00:01\r\u001b[K     |█████████                       | 389kB 18.6MB/s eta 0:00:01\r\u001b[K     |█████████▏                      | 399kB 18.6MB/s eta 0:00:01\r\u001b[K     |█████████▍                      | 409kB 18.6MB/s eta 0:00:01\r\u001b[K     |█████████▋                      | 419kB 18.6MB/s eta 0:00:01\r\u001b[K     |██████████                      | 430kB 18.6MB/s eta 0:00:01\r\u001b[K     |██████████▏                     | 440kB 18.6MB/s eta 0:00:01\r\u001b[K     |██████████▍                     | 450kB 18.6MB/s eta 0:00:01\r\u001b[K     |██████████▋                     | 460kB 18.6MB/s eta 0:00:01\r\u001b[K     |██████████▉                     | 471kB 18.6MB/s eta 0:00:01\r\u001b[K     |███████████                     | 481kB 18.6MB/s eta 0:00:01\r\u001b[K     |███████████▎                    | 491kB 18.6MB/s eta 0:00:01\r\u001b[K     |███████████▌                    | 501kB 18.6MB/s eta 0:00:01\r\u001b[K     |███████████▊                    | 512kB 18.6MB/s eta 0:00:01\r\u001b[K     |████████████                    | 522kB 18.6MB/s eta 0:00:01\r\u001b[K     |████████████▎                   | 532kB 18.6MB/s eta 0:00:01\r\u001b[K     |████████████▌                   | 542kB 18.6MB/s eta 0:00:01\r\u001b[K     |████████████▊                   | 552kB 18.6MB/s eta 0:00:01\r\u001b[K     |█████████████                   | 563kB 18.6MB/s eta 0:00:01\r\u001b[K     |█████████████▏                  | 573kB 18.6MB/s eta 0:00:01\r\u001b[K     |█████████████▍                  | 583kB 18.6MB/s eta 0:00:01\r\u001b[K     |█████████████▋                  | 593kB 18.6MB/s eta 0:00:01\r\u001b[K     |██████████████                  | 604kB 18.6MB/s eta 0:00:01\r\u001b[K     |██████████████▏                 | 614kB 18.6MB/s eta 0:00:01\r\u001b[K     |██████████████▍                 | 624kB 18.6MB/s eta 0:00:01\r\u001b[K     |██████████████▋                 | 634kB 18.6MB/s eta 0:00:01\r\u001b[K     |██████████████▉                 | 645kB 18.6MB/s eta 0:00:01\r\u001b[K     |███████████████                 | 655kB 18.6MB/s eta 0:00:01\r\u001b[K     |███████████████▎                | 665kB 18.6MB/s eta 0:00:01\r\u001b[K     |███████████████▌                | 675kB 18.6MB/s eta 0:00:01\r\u001b[K     |███████████████▉                | 686kB 18.6MB/s eta 0:00:01\r\u001b[K     |████████████████                | 696kB 18.6MB/s eta 0:00:01\r\u001b[K     |████████████████▎               | 706kB 18.6MB/s eta 0:00:01\r\u001b[K     |████████████████▌               | 716kB 18.6MB/s eta 0:00:01\r\u001b[K     |████████████████▊               | 727kB 18.6MB/s eta 0:00:01\r\u001b[K     |█████████████████               | 737kB 18.6MB/s eta 0:00:01\r\u001b[K     |█████████████████▏              | 747kB 18.6MB/s eta 0:00:01\r\u001b[K     |█████████████████▍              | 757kB 18.6MB/s eta 0:00:01\r\u001b[K     |█████████████████▋              | 768kB 18.6MB/s eta 0:00:01\r\u001b[K     |██████████████████              | 778kB 18.6MB/s eta 0:00:01\r\u001b[K     |██████████████████▏             | 788kB 18.6MB/s eta 0:00:01\r\u001b[K     |██████████████████▍             | 798kB 18.6MB/s eta 0:00:01\r\u001b[K     |██████████████████▋             | 808kB 18.6MB/s eta 0:00:01\r\u001b[K     |██████████████████▉             | 819kB 18.6MB/s eta 0:00:01\r\u001b[K     |███████████████████             | 829kB 18.6MB/s eta 0:00:01\r\u001b[K     |███████████████████▎            | 839kB 18.6MB/s eta 0:00:01\r\u001b[K     |███████████████████▌            | 849kB 18.6MB/s eta 0:00:01\r\u001b[K     |███████████████████▉            | 860kB 18.6MB/s eta 0:00:01\r\u001b[K     |████████████████████            | 870kB 18.6MB/s eta 0:00:01\r\u001b[K     |████████████████████▎           | 880kB 18.6MB/s eta 0:00:01\r\u001b[K     |████████████████████▌           | 890kB 18.6MB/s eta 0:00:01\r\u001b[K     |████████████████████▊           | 901kB 18.6MB/s eta 0:00:01\r\u001b[K     |█████████████████████           | 911kB 18.6MB/s eta 0:00:01\r\u001b[K     |█████████████████████▏          | 921kB 18.6MB/s eta 0:00:01\r\u001b[K     |█████████████████████▍          | 931kB 18.6MB/s eta 0:00:01\r\u001b[K     |█████████████████████▊          | 942kB 18.6MB/s eta 0:00:01\r\u001b[K     |██████████████████████          | 952kB 18.6MB/s eta 0:00:01\r\u001b[K     |██████████████████████▏         | 962kB 18.6MB/s eta 0:00:01\r\u001b[K     |██████████████████████▍         | 972kB 18.6MB/s eta 0:00:01\r\u001b[K     |██████████████████████▋         | 983kB 18.6MB/s eta 0:00:01\r\u001b[K     |██████████████████████▉         | 993kB 18.6MB/s eta 0:00:01\r\u001b[K     |███████████████████████         | 1.0MB 18.6MB/s eta 0:00:01\r\u001b[K     |███████████████████████▎        | 1.0MB 18.6MB/s eta 0:00:01\r\u001b[K     |███████████████████████▌        | 1.0MB 18.6MB/s eta 0:00:01\r\u001b[K     |███████████████████████▉        | 1.0MB 18.6MB/s eta 0:00:01\r\u001b[K     |████████████████████████        | 1.0MB 18.6MB/s eta 0:00:01\r\u001b[K     |████████████████████████▎       | 1.1MB 18.6MB/s eta 0:00:01\r\u001b[K     |████████████████████████▌       | 1.1MB 18.6MB/s eta 0:00:01\r\u001b[K     |████████████████████████▊       | 1.1MB 18.6MB/s eta 0:00:01\r\u001b[K     |█████████████████████████       | 1.1MB 18.6MB/s eta 0:00:01\r\u001b[K     |█████████████████████████▏      | 1.1MB 18.6MB/s eta 0:00:01\r\u001b[K     |█████████████████████████▍      | 1.1MB 18.6MB/s eta 0:00:01\r\u001b[K     |█████████████████████████▊      | 1.1MB 18.6MB/s eta 0:00:01\r\u001b[K     |██████████████████████████      | 1.1MB 18.6MB/s eta 0:00:01\r\u001b[K     |██████████████████████████▏     | 1.1MB 18.6MB/s eta 0:00:01\r\u001b[K     |██████████████████████████▍     | 1.1MB 18.6MB/s eta 0:00:01\r\u001b[K     |██████████████████████████▋     | 1.2MB 18.6MB/s eta 0:00:01\r\u001b[K     |██████████████████████████▉     | 1.2MB 18.6MB/s eta 0:00:01\r\u001b[K     |███████████████████████████     | 1.2MB 18.6MB/s eta 0:00:01\r\u001b[K     |███████████████████████████▎    | 1.2MB 18.6MB/s eta 0:00:01\r\u001b[K     |███████████████████████████▋    | 1.2MB 18.6MB/s eta 0:00:01\r\u001b[K     |███████████████████████████▉    | 1.2MB 18.6MB/s eta 0:00:01\r\u001b[K     |████████████████████████████    | 1.2MB 18.6MB/s eta 0:00:01\r\u001b[K     |████████████████████████████▎   | 1.2MB 18.6MB/s eta 0:00:01\r\u001b[K     |████████████████████████████▌   | 1.2MB 18.6MB/s eta 0:00:01\r\u001b[K     |████████████████████████████▊   | 1.2MB 18.6MB/s eta 0:00:01\r\u001b[K     |█████████████████████████████   | 1.3MB 18.6MB/s eta 0:00:01\r\u001b[K     |█████████████████████████████▏  | 1.3MB 18.6MB/s eta 0:00:01\r\u001b[K     |█████████████████████████████▍  | 1.3MB 18.6MB/s eta 0:00:01\r\u001b[K     |█████████████████████████████▊  | 1.3MB 18.6MB/s eta 0:00:01\r\u001b[K     |██████████████████████████████  | 1.3MB 18.6MB/s eta 0:00:01\r\u001b[K     |██████████████████████████████▏ | 1.3MB 18.6MB/s eta 0:00:01\r\u001b[K     |██████████████████████████████▍ | 1.3MB 18.6MB/s eta 0:00:01\r\u001b[K     |██████████████████████████████▋ | 1.3MB 18.6MB/s eta 0:00:01\r\u001b[K     |██████████████████████████████▉ | 1.3MB 18.6MB/s eta 0:00:01\r\u001b[K     |███████████████████████████████ | 1.4MB 18.6MB/s eta 0:00:01\r\u001b[K     |███████████████████████████████▎| 1.4MB 18.6MB/s eta 0:00:01\r\u001b[K     |███████████████████████████████▋| 1.4MB 18.6MB/s eta 0:00:01\r\u001b[K     |███████████████████████████████▉| 1.4MB 18.6MB/s eta 0:00:01\r\u001b[K     |████████████████████████████████| 1.4MB 18.6MB/s \n",
            "\u001b[?25hRequirement already satisfied: six in /usr/local/lib/python3.6/dist-packages (from nltk==3.2.4->preprocessing) (1.12.0)\n",
            "Building wheels for collected packages: nltk\n",
            "  Building wheel for nltk (setup.py) ... \u001b[?25l\u001b[?25hdone\n",
            "  Created wheel for nltk: filename=nltk-3.2.4-cp36-none-any.whl size=1367706 sha256=d12394e262710973ff8278c88fb36a4e1883493a5736c56019d4ad268b4caecc\n",
            "  Stored in directory: /root/.cache/pip/wheels/36/f1/5c/f667347d86a3a534ba4c0127eed4389f929916e3ec88bb461a\n",
            "Successfully built nltk\n",
            "Installing collected packages: nltk, sphinx-rtd-theme, preprocessing\n",
            "  Found existing installation: nltk 3.2.5\n",
            "    Uninstalling nltk-3.2.5:\n",
            "      Successfully uninstalled nltk-3.2.5\n",
            "Successfully installed nltk-3.2.4 preprocessing-0.1.13 sphinx-rtd-theme-0.2.4\n"
          ],
          "name": "stdout"
        }
      ]
    },
    {
      "cell_type": "code",
      "metadata": {
        "id": "lswRIcKJEl0w",
        "colab_type": "code",
        "colab": {}
      },
      "source": [
        "#importation of Libraries\n",
        "import numpy as np\n",
        "import pandas as pd\n",
        "import matplotlib.pyplot as plt\n",
        "# The preprocessing package provides transformations applied to your data before feeding it to the algorithm.\n",
        "from sklearn import *\n"
      ],
      "execution_count": 0,
      "outputs": []
    },
    {
      "cell_type": "code",
      "metadata": {
        "id": "d1HCn9n3afwy",
        "colab_type": "code",
        "colab": {}
      },
      "source": [
        "#importation of the training data into enviroment\n",
        "train = pd.read_csv('train.csv')"
      ],
      "execution_count": 0,
      "outputs": []
    },
    {
      "cell_type": "code",
      "metadata": {
        "id": "uC7bEOAMhkaX",
        "colab_type": "code",
        "outputId": "a72e2321-ba9a-4499-998c-c69a2f407dec",
        "colab": {
          "base_uri": "https://localhost:8080/",
          "height": 413
        }
      },
      "source": [
        "# View the first 10 rows of dataset\n",
        "train.head(10)"
      ],
      "execution_count": 3,
      "outputs": [
        {
          "output_type": "execute_result",
          "data": {
            "text/html": [
              "<div>\n",
              "<style scoped>\n",
              "    .dataframe tbody tr th:only-of-type {\n",
              "        vertical-align: middle;\n",
              "    }\n",
              "\n",
              "    .dataframe tbody tr th {\n",
              "        vertical-align: top;\n",
              "    }\n",
              "\n",
              "    .dataframe thead th {\n",
              "        text-align: right;\n",
              "    }\n",
              "</style>\n",
              "<table border=\"1\" class=\"dataframe\">\n",
              "  <thead>\n",
              "    <tr style=\"text-align: right;\">\n",
              "      <th></th>\n",
              "      <th>Loan_ID</th>\n",
              "      <th>Gender</th>\n",
              "      <th>Married</th>\n",
              "      <th>Dependents</th>\n",
              "      <th>Education</th>\n",
              "      <th>Self_Employed</th>\n",
              "      <th>ApplicantIncome</th>\n",
              "      <th>CoapplicantIncome</th>\n",
              "      <th>LoanAmount</th>\n",
              "      <th>Loan_Amount_Term</th>\n",
              "      <th>Credit_History</th>\n",
              "      <th>Property_Area</th>\n",
              "      <th>Loan_Status</th>\n",
              "    </tr>\n",
              "  </thead>\n",
              "  <tbody>\n",
              "    <tr>\n",
              "      <th>0</th>\n",
              "      <td>LP001002</td>\n",
              "      <td>Male</td>\n",
              "      <td>No</td>\n",
              "      <td>0</td>\n",
              "      <td>Graduate</td>\n",
              "      <td>No</td>\n",
              "      <td>5849</td>\n",
              "      <td>0.0</td>\n",
              "      <td>NaN</td>\n",
              "      <td>360.0</td>\n",
              "      <td>1.0</td>\n",
              "      <td>Urban</td>\n",
              "      <td>Y</td>\n",
              "    </tr>\n",
              "    <tr>\n",
              "      <th>1</th>\n",
              "      <td>LP001003</td>\n",
              "      <td>Male</td>\n",
              "      <td>Yes</td>\n",
              "      <td>1</td>\n",
              "      <td>Graduate</td>\n",
              "      <td>No</td>\n",
              "      <td>4583</td>\n",
              "      <td>1508.0</td>\n",
              "      <td>128.0</td>\n",
              "      <td>360.0</td>\n",
              "      <td>1.0</td>\n",
              "      <td>Rural</td>\n",
              "      <td>N</td>\n",
              "    </tr>\n",
              "    <tr>\n",
              "      <th>2</th>\n",
              "      <td>LP001005</td>\n",
              "      <td>Male</td>\n",
              "      <td>Yes</td>\n",
              "      <td>0</td>\n",
              "      <td>Graduate</td>\n",
              "      <td>Yes</td>\n",
              "      <td>3000</td>\n",
              "      <td>0.0</td>\n",
              "      <td>66.0</td>\n",
              "      <td>360.0</td>\n",
              "      <td>1.0</td>\n",
              "      <td>Urban</td>\n",
              "      <td>Y</td>\n",
              "    </tr>\n",
              "    <tr>\n",
              "      <th>3</th>\n",
              "      <td>LP001006</td>\n",
              "      <td>Male</td>\n",
              "      <td>Yes</td>\n",
              "      <td>0</td>\n",
              "      <td>Not Graduate</td>\n",
              "      <td>No</td>\n",
              "      <td>2583</td>\n",
              "      <td>2358.0</td>\n",
              "      <td>120.0</td>\n",
              "      <td>360.0</td>\n",
              "      <td>1.0</td>\n",
              "      <td>Urban</td>\n",
              "      <td>Y</td>\n",
              "    </tr>\n",
              "    <tr>\n",
              "      <th>4</th>\n",
              "      <td>LP001008</td>\n",
              "      <td>Male</td>\n",
              "      <td>No</td>\n",
              "      <td>0</td>\n",
              "      <td>Graduate</td>\n",
              "      <td>No</td>\n",
              "      <td>6000</td>\n",
              "      <td>0.0</td>\n",
              "      <td>141.0</td>\n",
              "      <td>360.0</td>\n",
              "      <td>1.0</td>\n",
              "      <td>Urban</td>\n",
              "      <td>Y</td>\n",
              "    </tr>\n",
              "    <tr>\n",
              "      <th>5</th>\n",
              "      <td>LP001011</td>\n",
              "      <td>Male</td>\n",
              "      <td>Yes</td>\n",
              "      <td>2</td>\n",
              "      <td>Graduate</td>\n",
              "      <td>Yes</td>\n",
              "      <td>5417</td>\n",
              "      <td>4196.0</td>\n",
              "      <td>267.0</td>\n",
              "      <td>360.0</td>\n",
              "      <td>1.0</td>\n",
              "      <td>Urban</td>\n",
              "      <td>Y</td>\n",
              "    </tr>\n",
              "    <tr>\n",
              "      <th>6</th>\n",
              "      <td>LP001013</td>\n",
              "      <td>Male</td>\n",
              "      <td>Yes</td>\n",
              "      <td>0</td>\n",
              "      <td>Not Graduate</td>\n",
              "      <td>No</td>\n",
              "      <td>2333</td>\n",
              "      <td>1516.0</td>\n",
              "      <td>95.0</td>\n",
              "      <td>360.0</td>\n",
              "      <td>1.0</td>\n",
              "      <td>Urban</td>\n",
              "      <td>Y</td>\n",
              "    </tr>\n",
              "    <tr>\n",
              "      <th>7</th>\n",
              "      <td>LP001014</td>\n",
              "      <td>Male</td>\n",
              "      <td>Yes</td>\n",
              "      <td>3+</td>\n",
              "      <td>Graduate</td>\n",
              "      <td>No</td>\n",
              "      <td>3036</td>\n",
              "      <td>2504.0</td>\n",
              "      <td>158.0</td>\n",
              "      <td>360.0</td>\n",
              "      <td>0.0</td>\n",
              "      <td>Semiurban</td>\n",
              "      <td>N</td>\n",
              "    </tr>\n",
              "    <tr>\n",
              "      <th>8</th>\n",
              "      <td>LP001018</td>\n",
              "      <td>Male</td>\n",
              "      <td>Yes</td>\n",
              "      <td>2</td>\n",
              "      <td>Graduate</td>\n",
              "      <td>No</td>\n",
              "      <td>4006</td>\n",
              "      <td>1526.0</td>\n",
              "      <td>168.0</td>\n",
              "      <td>360.0</td>\n",
              "      <td>1.0</td>\n",
              "      <td>Urban</td>\n",
              "      <td>Y</td>\n",
              "    </tr>\n",
              "    <tr>\n",
              "      <th>9</th>\n",
              "      <td>LP001020</td>\n",
              "      <td>Male</td>\n",
              "      <td>Yes</td>\n",
              "      <td>1</td>\n",
              "      <td>Graduate</td>\n",
              "      <td>No</td>\n",
              "      <td>12841</td>\n",
              "      <td>10968.0</td>\n",
              "      <td>349.0</td>\n",
              "      <td>360.0</td>\n",
              "      <td>1.0</td>\n",
              "      <td>Semiurban</td>\n",
              "      <td>N</td>\n",
              "    </tr>\n",
              "  </tbody>\n",
              "</table>\n",
              "</div>"
            ],
            "text/plain": [
              "    Loan_ID Gender Married  ... Credit_History Property_Area Loan_Status\n",
              "0  LP001002   Male      No  ...            1.0         Urban           Y\n",
              "1  LP001003   Male     Yes  ...            1.0         Rural           N\n",
              "2  LP001005   Male     Yes  ...            1.0         Urban           Y\n",
              "3  LP001006   Male     Yes  ...            1.0         Urban           Y\n",
              "4  LP001008   Male      No  ...            1.0         Urban           Y\n",
              "5  LP001011   Male     Yes  ...            1.0         Urban           Y\n",
              "6  LP001013   Male     Yes  ...            1.0         Urban           Y\n",
              "7  LP001014   Male     Yes  ...            0.0     Semiurban           N\n",
              "8  LP001018   Male     Yes  ...            1.0         Urban           Y\n",
              "9  LP001020   Male     Yes  ...            1.0     Semiurban           N\n",
              "\n",
              "[10 rows x 13 columns]"
            ]
          },
          "metadata": {
            "tags": []
          },
          "execution_count": 3
        }
      ]
    },
    {
      "cell_type": "code",
      "metadata": {
        "id": "Rrq3imcljQnZ",
        "colab_type": "code",
        "outputId": "783fb0ab-d804-49b4-9571-e17d6eb0977b",
        "colab": {
          "base_uri": "https://localhost:8080/",
          "height": 297
        }
      },
      "source": [
        "#The statistical discription of the available data\n",
        "train.describe()"
      ],
      "execution_count": 4,
      "outputs": [
        {
          "output_type": "execute_result",
          "data": {
            "text/html": [
              "<div>\n",
              "<style scoped>\n",
              "    .dataframe tbody tr th:only-of-type {\n",
              "        vertical-align: middle;\n",
              "    }\n",
              "\n",
              "    .dataframe tbody tr th {\n",
              "        vertical-align: top;\n",
              "    }\n",
              "\n",
              "    .dataframe thead th {\n",
              "        text-align: right;\n",
              "    }\n",
              "</style>\n",
              "<table border=\"1\" class=\"dataframe\">\n",
              "  <thead>\n",
              "    <tr style=\"text-align: right;\">\n",
              "      <th></th>\n",
              "      <th>ApplicantIncome</th>\n",
              "      <th>CoapplicantIncome</th>\n",
              "      <th>LoanAmount</th>\n",
              "      <th>Loan_Amount_Term</th>\n",
              "      <th>Credit_History</th>\n",
              "    </tr>\n",
              "  </thead>\n",
              "  <tbody>\n",
              "    <tr>\n",
              "      <th>count</th>\n",
              "      <td>614.000000</td>\n",
              "      <td>614.000000</td>\n",
              "      <td>592.000000</td>\n",
              "      <td>600.00000</td>\n",
              "      <td>564.000000</td>\n",
              "    </tr>\n",
              "    <tr>\n",
              "      <th>mean</th>\n",
              "      <td>5403.459283</td>\n",
              "      <td>1621.245798</td>\n",
              "      <td>146.412162</td>\n",
              "      <td>342.00000</td>\n",
              "      <td>0.842199</td>\n",
              "    </tr>\n",
              "    <tr>\n",
              "      <th>std</th>\n",
              "      <td>6109.041673</td>\n",
              "      <td>2926.248369</td>\n",
              "      <td>85.587325</td>\n",
              "      <td>65.12041</td>\n",
              "      <td>0.364878</td>\n",
              "    </tr>\n",
              "    <tr>\n",
              "      <th>min</th>\n",
              "      <td>150.000000</td>\n",
              "      <td>0.000000</td>\n",
              "      <td>9.000000</td>\n",
              "      <td>12.00000</td>\n",
              "      <td>0.000000</td>\n",
              "    </tr>\n",
              "    <tr>\n",
              "      <th>25%</th>\n",
              "      <td>2877.500000</td>\n",
              "      <td>0.000000</td>\n",
              "      <td>100.000000</td>\n",
              "      <td>360.00000</td>\n",
              "      <td>1.000000</td>\n",
              "    </tr>\n",
              "    <tr>\n",
              "      <th>50%</th>\n",
              "      <td>3812.500000</td>\n",
              "      <td>1188.500000</td>\n",
              "      <td>128.000000</td>\n",
              "      <td>360.00000</td>\n",
              "      <td>1.000000</td>\n",
              "    </tr>\n",
              "    <tr>\n",
              "      <th>75%</th>\n",
              "      <td>5795.000000</td>\n",
              "      <td>2297.250000</td>\n",
              "      <td>168.000000</td>\n",
              "      <td>360.00000</td>\n",
              "      <td>1.000000</td>\n",
              "    </tr>\n",
              "    <tr>\n",
              "      <th>max</th>\n",
              "      <td>81000.000000</td>\n",
              "      <td>41667.000000</td>\n",
              "      <td>700.000000</td>\n",
              "      <td>480.00000</td>\n",
              "      <td>1.000000</td>\n",
              "    </tr>\n",
              "  </tbody>\n",
              "</table>\n",
              "</div>"
            ],
            "text/plain": [
              "       ApplicantIncome  CoapplicantIncome  ...  Loan_Amount_Term  Credit_History\n",
              "count       614.000000         614.000000  ...         600.00000      564.000000\n",
              "mean       5403.459283        1621.245798  ...         342.00000        0.842199\n",
              "std        6109.041673        2926.248369  ...          65.12041        0.364878\n",
              "min         150.000000           0.000000  ...          12.00000        0.000000\n",
              "25%        2877.500000           0.000000  ...         360.00000        1.000000\n",
              "50%        3812.500000        1188.500000  ...         360.00000        1.000000\n",
              "75%        5795.000000        2297.250000  ...         360.00000        1.000000\n",
              "max       81000.000000       41667.000000  ...         480.00000        1.000000\n",
              "\n",
              "[8 rows x 5 columns]"
            ]
          },
          "metadata": {
            "tags": []
          },
          "execution_count": 4
        }
      ]
    },
    {
      "cell_type": "code",
      "metadata": {
        "id": "QFPG8cgQHdVt",
        "colab_type": "code",
        "outputId": "7a7fd2d1-64cb-4dae-8643-34d59f66aa5b",
        "colab": {
          "base_uri": "https://localhost:8080/",
          "height": 323
        }
      },
      "source": [
        "#Understanding all data types and count of data\n",
        "train.info()"
      ],
      "execution_count": 5,
      "outputs": [
        {
          "output_type": "stream",
          "text": [
            "<class 'pandas.core.frame.DataFrame'>\n",
            "RangeIndex: 614 entries, 0 to 613\n",
            "Data columns (total 13 columns):\n",
            "Loan_ID              614 non-null object\n",
            "Gender               601 non-null object\n",
            "Married              611 non-null object\n",
            "Dependents           599 non-null object\n",
            "Education            614 non-null object\n",
            "Self_Employed        582 non-null object\n",
            "ApplicantIncome      614 non-null int64\n",
            "CoapplicantIncome    614 non-null float64\n",
            "LoanAmount           592 non-null float64\n",
            "Loan_Amount_Term     600 non-null float64\n",
            "Credit_History       564 non-null float64\n",
            "Property_Area        614 non-null object\n",
            "Loan_Status          614 non-null object\n",
            "dtypes: float64(4), int64(1), object(8)\n",
            "memory usage: 62.5+ KB\n"
          ],
          "name": "stdout"
        }
      ]
    },
    {
      "cell_type": "code",
      "metadata": {
        "id": "lMV0v65ajmWL",
        "colab_type": "code",
        "outputId": "43fa91f6-af67-451b-dfb9-23ec947b3eca",
        "colab": {
          "base_uri": "https://localhost:8080/",
          "height": 85
        }
      },
      "source": [
        "#unique values and frequencies for non numerical values \n",
        "train['Property_Area'].value_counts()"
      ],
      "execution_count": 6,
      "outputs": [
        {
          "output_type": "execute_result",
          "data": {
            "text/plain": [
              "Semiurban    233\n",
              "Urban        202\n",
              "Rural        179\n",
              "Name: Property_Area, dtype: int64"
            ]
          },
          "metadata": {
            "tags": []
          },
          "execution_count": 6
        }
      ]
    },
    {
      "cell_type": "code",
      "metadata": {
        "id": "IXvwxS4hkCfY",
        "colab_type": "code",
        "outputId": "93511de8-7bf2-43b6-88fc-20fe2786e180",
        "colab": {
          "base_uri": "https://localhost:8080/",
          "height": 282
        }
      },
      "source": [
        "#Histogram of applicant incomes against population\n",
        "train['ApplicantIncome'].hist(bins=50)"
      ],
      "execution_count": 7,
      "outputs": [
        {
          "output_type": "execute_result",
          "data": {
            "text/plain": [
              "<matplotlib.axes._subplots.AxesSubplot at 0x7f6cf1124d68>"
            ]
          },
          "metadata": {
            "tags": []
          },
          "execution_count": 7
        },
        {
          "output_type": "display_data",
          "data": {
            "image/png": "[encoded data removed]",
            "text/plain": [
              "<Figure size 432x288 with 1 Axes>"
            ]
          },
          "metadata": {
            "tags": []
          }
        }
      ]
    },
    {
      "cell_type": "code",
      "metadata": {
        "id": "vjHZKa_UkNoI",
        "colab_type": "code",
        "outputId": "f387a773-e93c-4a51-e6e9-ba997064fd21",
        "colab": {
          "base_uri": "https://localhost:8080/",
          "height": 282
        }
      },
      "source": [
        "#Using whister boxplot to identifiy outliners\n",
        "train.boxplot(column ='ApplicantIncome')"
      ],
      "execution_count": 8,
      "outputs": [
        {
          "output_type": "execute_result",
          "data": {
            "text/plain": [
              "<matplotlib.axes._subplots.AxesSubplot at 0x7f6cf1096438>"
            ]
          },
          "metadata": {
            "tags": []
          },
          "execution_count": 8
        },
        {
          "output_type": "display_data",
          "data": {
            "image/png": "[encoded data removed]",
            "text/plain": [
              "<Figure size 432x288 with 1 Axes>"
            ]
          },
          "metadata": {
            "tags": []
          }
        }
      ]
    },
    {
      "cell_type": "code",
      "metadata": {
        "id": "jx-nv2ISkUPK",
        "colab_type": "code",
        "outputId": "8c07fef0-712e-4089-c3f3-86ee834f9c1a",
        "colab": {
          "base_uri": "https://localhost:8080/",
          "height": 318
        }
      },
      "source": [
        "# To get a better understanding of the applicant income distribution. \n",
        "train.boxplot(column ='ApplicantIncome', by = 'Education' )"
      ],
      "execution_count": 9,
      "outputs": [
        {
          "output_type": "execute_result",
          "data": {
            "text/plain": [
              "<matplotlib.axes._subplots.AxesSubplot at 0x7f6cf0b13d68>"
            ]
          },
          "metadata": {
            "tags": []
          },
          "execution_count": 9
        },
        {
          "output_type": "display_data",
          "data": {
            "image/png": "[encoded data removed]",
            "text/plain": [
              "<Figure size 432x288 with 1 Axes>"
            ]
          },
          "metadata": {
            "tags": []
          }
        }
      ]
    },
    {
      "cell_type": "code",
      "metadata": {
        "id": "j6SQ3h6akotn",
        "colab_type": "code",
        "outputId": "ad8ffbe9-36ff-4fc4-b591-41e783ac9b0f",
        "colab": {
          "base_uri": "https://localhost:8080/",
          "height": 282
        }
      },
      "source": [
        "#Histogram forof the variable loan amount.\n",
        "train['LoanAmount'].hist(bins=50)"
      ],
      "execution_count": 10,
      "outputs": [
        {
          "output_type": "execute_result",
          "data": {
            "text/plain": [
              "<matplotlib.axes._subplots.AxesSubplot at 0x7f6cf0b13eb8>"
            ]
          },
          "metadata": {
            "tags": []
          },
          "execution_count": 10
        },
        {
          "output_type": "display_data",
          "data": {
            "image/png": "[encoded data removed]",
            "text/plain": [
              "<Figure size 432x288 with 1 Axes>"
            ]
          },
          "metadata": {
            "tags": []
          }
        }
      ]
    },
    {
      "cell_type": "code",
      "metadata": {
        "id": "o2kIt-P7nRLd",
        "colab_type": "code",
        "outputId": "81414353-abce-44e9-90db-2286c8ea9a70",
        "colab": {
          "base_uri": "https://localhost:8080/",
          "height": 282
        }
      },
      "source": [
        "# boxplot of the variable loanamount to identify Outliner \n",
        "train.boxplot(column = 'LoanAmount')"
      ],
      "execution_count": 11,
      "outputs": [
        {
          "output_type": "execute_result",
          "data": {
            "text/plain": [
              "<matplotlib.axes._subplots.AxesSubplot at 0x7f6cf09b1358>"
            ]
          },
          "metadata": {
            "tags": []
          },
          "execution_count": 11
        },
        {
          "output_type": "display_data",
          "data": {
            "image/png": "[encoded data removed]",
            "text/plain": [
              "<Figure size 432x288 with 1 Axes>"
            ]
          },
          "metadata": {
            "tags": []
          }
        }
      ]
    },
    {
      "cell_type": "code",
      "metadata": {
        "id": "TcHsEa3gN8uI",
        "colab_type": "code",
        "outputId": "91391d93-239b-4f26-915a-9d81e45c3331",
        "colab": {
          "base_uri": "https://localhost:8080/",
          "height": 318
        }
      },
      "source": [
        "# boxplot of loan amount by gender\n",
        "train.boxplot(column = 'LoanAmount', by = 'Gender')"
      ],
      "execution_count": 12,
      "outputs": [
        {
          "output_type": "execute_result",
          "data": {
            "text/plain": [
              "<matplotlib.axes._subplots.AxesSubplot at 0x7f6cf09197f0>"
            ]
          },
          "metadata": {
            "tags": []
          },
          "execution_count": 12
        },
        {
          "output_type": "display_data",
          "data": {
            "image/png": "[encoded data removed]",
            "text/plain": [
              "<Figure size 432x288 with 1 Axes>"
            ]
          },
          "metadata": {
            "tags": []
          }
        }
      ]
    },
    {
      "cell_type": "markdown",
      "metadata": {
        "id": "Ugsd4qrMTyKe",
        "colab_type": "text"
      },
      "source": [
        " Distribution of Categorical Varaiables"
      ]
    },
    {
      "cell_type": "code",
      "metadata": {
        "id": "7R0k5Gr4Or9-",
        "colab_type": "code",
        "outputId": "fd2449b3-f8c8-4865-93f6-83e915e5b3c0",
        "colab": {
          "base_uri": "https://localhost:8080/",
          "height": 34
        }
      },
      "source": [
        "#Identify number of loans approved\n",
        "loan_approval = train ['Loan_Status'].value_counts()['Y']\n",
        "print(loan_approval)"
      ],
      "execution_count": 13,
      "outputs": [
        {
          "output_type": "stream",
          "text": [
            "422\n"
          ],
          "name": "stdout"
        }
      ]
    },
    {
      "cell_type": "code",
      "metadata": {
        "id": "yJ4LGFyuRS3F",
        "colab_type": "code",
        "outputId": "f5b31f37-32d0-441d-b434-1e6873892be0",
        "colab": {
          "base_uri": "https://localhost:8080/",
          "height": 173
        }
      },
      "source": [
        "# Trying to find relationships\n",
        "pd.crosstab(train ['Credit_History'], train ['Loan_Status'],margins=True)"
      ],
      "execution_count": 14,
      "outputs": [
        {
          "output_type": "execute_result",
          "data": {
            "text/html": [
              "<div>\n",
              "<style scoped>\n",
              "    .dataframe tbody tr th:only-of-type {\n",
              "        vertical-align: middle;\n",
              "    }\n",
              "\n",
              "    .dataframe tbody tr th {\n",
              "        vertical-align: top;\n",
              "    }\n",
              "\n",
              "    .dataframe thead th {\n",
              "        text-align: right;\n",
              "    }\n",
              "</style>\n",
              "<table border=\"1\" class=\"dataframe\">\n",
              "  <thead>\n",
              "    <tr style=\"text-align: right;\">\n",
              "      <th>Loan_Status</th>\n",
              "      <th>N</th>\n",
              "      <th>Y</th>\n",
              "      <th>All</th>\n",
              "    </tr>\n",
              "    <tr>\n",
              "      <th>Credit_History</th>\n",
              "      <th></th>\n",
              "      <th></th>\n",
              "      <th></th>\n",
              "    </tr>\n",
              "  </thead>\n",
              "  <tbody>\n",
              "    <tr>\n",
              "      <th>0.0</th>\n",
              "      <td>82</td>\n",
              "      <td>7</td>\n",
              "      <td>89</td>\n",
              "    </tr>\n",
              "    <tr>\n",
              "      <th>1.0</th>\n",
              "      <td>97</td>\n",
              "      <td>378</td>\n",
              "      <td>475</td>\n",
              "    </tr>\n",
              "    <tr>\n",
              "      <th>All</th>\n",
              "      <td>179</td>\n",
              "      <td>385</td>\n",
              "      <td>564</td>\n",
              "    </tr>\n",
              "  </tbody>\n",
              "</table>\n",
              "</div>"
            ],
            "text/plain": [
              "Loan_Status       N    Y  All\n",
              "Credit_History               \n",
              "0.0              82    7   89\n",
              "1.0              97  378  475\n",
              "All             179  385  564"
            ]
          },
          "metadata": {
            "tags": []
          },
          "execution_count": 14
        }
      ]
    },
    {
      "cell_type": "code",
      "metadata": {
        "id": "5HPRmsINYSfm",
        "colab_type": "code",
        "outputId": "1f37d11c-ffe4-4db4-d212-1facad78b4d2",
        "colab": {
          "base_uri": "https://localhost:8080/",
          "height": 142
        }
      },
      "source": [
        "# Reason: It was giving an error message that Credit_History was a key error\n",
        "train.reset_index()"
      ],
      "execution_count": 39,
      "outputs": [
        {
          "output_type": "execute_result",
          "data": {
            "text/html": [
              "<div>\n",
              "<style scoped>\n",
              "    .dataframe tbody tr th:only-of-type {\n",
              "        vertical-align: middle;\n",
              "    }\n",
              "\n",
              "    .dataframe tbody tr th {\n",
              "        vertical-align: top;\n",
              "    }\n",
              "\n",
              "    .dataframe thead th {\n",
              "        text-align: right;\n",
              "    }\n",
              "</style>\n",
              "<table border=\"1\" class=\"dataframe\">\n",
              "  <thead>\n",
              "    <tr style=\"text-align: right;\">\n",
              "      <th>Loan_Status</th>\n",
              "      <th>Credit_History</th>\n",
              "      <th>N</th>\n",
              "      <th>Y</th>\n",
              "      <th>All</th>\n",
              "    </tr>\n",
              "  </thead>\n",
              "  <tbody>\n",
              "    <tr>\n",
              "      <th>0</th>\n",
              "      <td>0</td>\n",
              "      <td>0.921348</td>\n",
              "      <td>0.078652</td>\n",
              "      <td>1.0</td>\n",
              "    </tr>\n",
              "    <tr>\n",
              "      <th>1</th>\n",
              "      <td>1</td>\n",
              "      <td>0.204211</td>\n",
              "      <td>0.795789</td>\n",
              "      <td>1.0</td>\n",
              "    </tr>\n",
              "    <tr>\n",
              "      <th>2</th>\n",
              "      <td>All</td>\n",
              "      <td>0.317376</td>\n",
              "      <td>0.682624</td>\n",
              "      <td>1.0</td>\n",
              "    </tr>\n",
              "  </tbody>\n",
              "</table>\n",
              "</div>"
            ],
            "text/plain": [
              "Loan_Status Credit_History         N         Y  All\n",
              "0                        0  0.921348  0.078652  1.0\n",
              "1                        1  0.204211  0.795789  1.0\n",
              "2                      All  0.317376  0.682624  1.0"
            ]
          },
          "metadata": {
            "tags": []
          },
          "execution_count": 39
        }
      ]
    },
    {
      "cell_type": "code",
      "metadata": {
        "id": "jlP5G6YBgjHD",
        "colab_type": "code",
        "colab": {
          "base_uri": "https://localhost:8080/",
          "height": 34
        },
        "outputId": "3bf44fcb-f966-43c2-e3c7-ea28d7a529ff"
      },
      "source": [
        "train.columns"
      ],
      "execution_count": 41,
      "outputs": [
        {
          "output_type": "execute_result",
          "data": {
            "text/plain": [
              "Index(['N', 'Y', 'All'], dtype='object', name='Loan_Status')"
            ]
          },
          "metadata": {
            "tags": []
          },
          "execution_count": 41
        }
      ]
    },
    {
      "cell_type": "code",
      "metadata": {
        "id": "EWEavoB6bTQ6",
        "colab_type": "code",
        "outputId": "e2b93cb4-61a6-453b-bcee-31f2c176843d",
        "colab": {
          "base_uri": "https://localhost:8080/",
          "height": 698
        }
      },
      "source": [
        "def percentageConvert (ser):\n",
        "  return ser/float(ser[-1])\n",
        "\n",
        "  #loan aproval rate of customers with credit histroy 1\n",
        "  \n",
        "train = pd.crosstab(train ['Credit_History'], train ['Loan_Status'],margins=True).apply(percentageConvert, axis=1)\n",
        "loan_approval_with_Credit = train['Y'][+1]\n",
        "print(loan_approval_with_Credit_1*100)"
      ],
      "execution_count": 42,
      "outputs": [
        {
          "output_type": "error",
          "ename": "KeyError",
          "evalue": "ignored",
          "traceback": [
            "\u001b[0;31m---------------------------------------------------------------------------\u001b[0m",
            "\u001b[0;31mKeyError\u001b[0m                                  Traceback (most recent call last)",
            "\u001b[0;32m/usr/local/lib/python3.6/dist-packages/pandas/core/indexes/base.py\u001b[0m in \u001b[0;36mget_loc\u001b[0;34m(self, key, method, tolerance)\u001b[0m\n\u001b[1;32m   2896\u001b[0m             \u001b[0;32mtry\u001b[0m\u001b[0;34m:\u001b[0m\u001b[0;34m\u001b[0m\u001b[0;34m\u001b[0m\u001b[0m\n\u001b[0;32m-> 2897\u001b[0;31m                 \u001b[0;32mreturn\u001b[0m \u001b[0mself\u001b[0m\u001b[0;34m.\u001b[0m\u001b[0m_engine\u001b[0m\u001b[0;34m.\u001b[0m\u001b[0mget_loc\u001b[0m\u001b[0;34m(\u001b[0m\u001b[0mkey\u001b[0m\u001b[0;34m)\u001b[0m\u001b[0;34m\u001b[0m\u001b[0;34m\u001b[0m\u001b[0m\n\u001b[0m\u001b[1;32m   2898\u001b[0m             \u001b[0;32mexcept\u001b[0m \u001b[0mKeyError\u001b[0m\u001b[0;34m:\u001b[0m\u001b[0;34m\u001b[0m\u001b[0;34m\u001b[0m\u001b[0m\n",
            "\u001b[0;32mpandas/_libs/index.pyx\u001b[0m in \u001b[0;36mpandas._libs.index.IndexEngine.get_loc\u001b[0;34m()\u001b[0m\n",
            "\u001b[0;32mpandas/_libs/index.pyx\u001b[0m in \u001b[0;36mpandas._libs.index.IndexEngine.get_loc\u001b[0;34m()\u001b[0m\n",
            "\u001b[0;32mpandas/_libs/hashtable_class_helper.pxi\u001b[0m in \u001b[0;36mpandas._libs.hashtable.PyObjectHashTable.get_item\u001b[0;34m()\u001b[0m\n",
            "\u001b[0;32mpandas/_libs/hashtable_class_helper.pxi\u001b[0m in \u001b[0;36mpandas._libs.hashtable.PyObjectHashTable.get_item\u001b[0;34m()\u001b[0m\n",
            "\u001b[0;31mKeyError\u001b[0m: 'Credit_History'",
            "\nDuring handling of the above exception, another exception occurred:\n",
            "\u001b[0;31mKeyError\u001b[0m                                  Traceback (most recent call last)",
            "\u001b[0;32m<ipython-input-42-77c2a5807d99>\u001b[0m in \u001b[0;36m<module>\u001b[0;34m()\u001b[0m\n\u001b[1;32m      4\u001b[0m   \u001b[0;31m#loan aproval rate of customers with credit histroy 1\u001b[0m\u001b[0;34m\u001b[0m\u001b[0;34m\u001b[0m\u001b[0;34m\u001b[0m\u001b[0m\n\u001b[1;32m      5\u001b[0m \u001b[0;34m\u001b[0m\u001b[0m\n\u001b[0;32m----> 6\u001b[0;31m \u001b[0mtrain\u001b[0m \u001b[0;34m=\u001b[0m \u001b[0mpd\u001b[0m\u001b[0;34m.\u001b[0m\u001b[0mcrosstab\u001b[0m\u001b[0;34m(\u001b[0m\u001b[0mtrain\u001b[0m \u001b[0;34m[\u001b[0m\u001b[0;34m'Credit_History'\u001b[0m\u001b[0;34m]\u001b[0m\u001b[0;34m,\u001b[0m \u001b[0mtrain\u001b[0m \u001b[0;34m[\u001b[0m\u001b[0;34m'Loan_Status'\u001b[0m\u001b[0;34m]\u001b[0m\u001b[0;34m,\u001b[0m\u001b[0mmargins\u001b[0m\u001b[0;34m=\u001b[0m\u001b[0;32mTrue\u001b[0m\u001b[0;34m)\u001b[0m\u001b[0;34m.\u001b[0m\u001b[0mapply\u001b[0m\u001b[0;34m(\u001b[0m\u001b[0mpercentageConvert\u001b[0m\u001b[0;34m,\u001b[0m \u001b[0maxis\u001b[0m\u001b[0;34m=\u001b[0m\u001b[0;36m1\u001b[0m\u001b[0;34m)\u001b[0m\u001b[0;34m\u001b[0m\u001b[0;34m\u001b[0m\u001b[0m\n\u001b[0m\u001b[1;32m      7\u001b[0m \u001b[0mloan_approval_with_Credit\u001b[0m \u001b[0;34m=\u001b[0m \u001b[0mtrain\u001b[0m\u001b[0;34m[\u001b[0m\u001b[0;34m'Y'\u001b[0m\u001b[0;34m]\u001b[0m\u001b[0;34m[\u001b[0m\u001b[0;34m+\u001b[0m\u001b[0;36m1\u001b[0m\u001b[0;34m]\u001b[0m\u001b[0;34m\u001b[0m\u001b[0;34m\u001b[0m\u001b[0m\n\u001b[1;32m      8\u001b[0m \u001b[0mprint\u001b[0m\u001b[0;34m(\u001b[0m\u001b[0mloan_approval_with_Credit_1\u001b[0m\u001b[0;34m*\u001b[0m\u001b[0;36m100\u001b[0m\u001b[0;34m)\u001b[0m\u001b[0;34m\u001b[0m\u001b[0;34m\u001b[0m\u001b[0m\n",
            "\u001b[0;32m/usr/local/lib/python3.6/dist-packages/pandas/core/frame.py\u001b[0m in \u001b[0;36m__getitem__\u001b[0;34m(self, key)\u001b[0m\n\u001b[1;32m   2993\u001b[0m             \u001b[0;32mif\u001b[0m \u001b[0mself\u001b[0m\u001b[0;34m.\u001b[0m\u001b[0mcolumns\u001b[0m\u001b[0;34m.\u001b[0m\u001b[0mnlevels\u001b[0m \u001b[0;34m>\u001b[0m \u001b[0;36m1\u001b[0m\u001b[0;34m:\u001b[0m\u001b[0;34m\u001b[0m\u001b[0;34m\u001b[0m\u001b[0m\n\u001b[1;32m   2994\u001b[0m                 \u001b[0;32mreturn\u001b[0m \u001b[0mself\u001b[0m\u001b[0;34m.\u001b[0m\u001b[0m_getitem_multilevel\u001b[0m\u001b[0;34m(\u001b[0m\u001b[0mkey\u001b[0m\u001b[0;34m)\u001b[0m\u001b[0;34m\u001b[0m\u001b[0;34m\u001b[0m\u001b[0m\n\u001b[0;32m-> 2995\u001b[0;31m             \u001b[0mindexer\u001b[0m \u001b[0;34m=\u001b[0m \u001b[0mself\u001b[0m\u001b[0;34m.\u001b[0m\u001b[0mcolumns\u001b[0m\u001b[0;34m.\u001b[0m\u001b[0mget_loc\u001b[0m\u001b[0;34m(\u001b[0m\u001b[0mkey\u001b[0m\u001b[0;34m)\u001b[0m\u001b[0;34m\u001b[0m\u001b[0;34m\u001b[0m\u001b[0m\n\u001b[0m\u001b[1;32m   2996\u001b[0m             \u001b[0;32mif\u001b[0m \u001b[0mis_integer\u001b[0m\u001b[0;34m(\u001b[0m\u001b[0mindexer\u001b[0m\u001b[0;34m)\u001b[0m\u001b[0;34m:\u001b[0m\u001b[0;34m\u001b[0m\u001b[0;34m\u001b[0m\u001b[0m\n\u001b[1;32m   2997\u001b[0m                 \u001b[0mindexer\u001b[0m \u001b[0;34m=\u001b[0m \u001b[0;34m[\u001b[0m\u001b[0mindexer\u001b[0m\u001b[0;34m]\u001b[0m\u001b[0;34m\u001b[0m\u001b[0;34m\u001b[0m\u001b[0m\n",
            "\u001b[0;32m/usr/local/lib/python3.6/dist-packages/pandas/core/indexes/base.py\u001b[0m in \u001b[0;36mget_loc\u001b[0;34m(self, key, method, tolerance)\u001b[0m\n\u001b[1;32m   2897\u001b[0m                 \u001b[0;32mreturn\u001b[0m \u001b[0mself\u001b[0m\u001b[0;34m.\u001b[0m\u001b[0m_engine\u001b[0m\u001b[0;34m.\u001b[0m\u001b[0mget_loc\u001b[0m\u001b[0;34m(\u001b[0m\u001b[0mkey\u001b[0m\u001b[0;34m)\u001b[0m\u001b[0;34m\u001b[0m\u001b[0;34m\u001b[0m\u001b[0m\n\u001b[1;32m   2898\u001b[0m             \u001b[0;32mexcept\u001b[0m \u001b[0mKeyError\u001b[0m\u001b[0;34m:\u001b[0m\u001b[0;34m\u001b[0m\u001b[0;34m\u001b[0m\u001b[0m\n\u001b[0;32m-> 2899\u001b[0;31m                 \u001b[0;32mreturn\u001b[0m \u001b[0mself\u001b[0m\u001b[0;34m.\u001b[0m\u001b[0m_engine\u001b[0m\u001b[0;34m.\u001b[0m\u001b[0mget_loc\u001b[0m\u001b[0;34m(\u001b[0m\u001b[0mself\u001b[0m\u001b[0;34m.\u001b[0m\u001b[0m_maybe_cast_indexer\u001b[0m\u001b[0;34m(\u001b[0m\u001b[0mkey\u001b[0m\u001b[0;34m)\u001b[0m\u001b[0;34m)\u001b[0m\u001b[0;34m\u001b[0m\u001b[0;34m\u001b[0m\u001b[0m\n\u001b[0m\u001b[1;32m   2900\u001b[0m         \u001b[0mindexer\u001b[0m \u001b[0;34m=\u001b[0m \u001b[0mself\u001b[0m\u001b[0;34m.\u001b[0m\u001b[0mget_indexer\u001b[0m\u001b[0;34m(\u001b[0m\u001b[0;34m[\u001b[0m\u001b[0mkey\u001b[0m\u001b[0;34m]\u001b[0m\u001b[0;34m,\u001b[0m \u001b[0mmethod\u001b[0m\u001b[0;34m=\u001b[0m\u001b[0mmethod\u001b[0m\u001b[0;34m,\u001b[0m \u001b[0mtolerance\u001b[0m\u001b[0;34m=\u001b[0m\u001b[0mtolerance\u001b[0m\u001b[0;34m)\u001b[0m\u001b[0;34m\u001b[0m\u001b[0;34m\u001b[0m\u001b[0m\n\u001b[1;32m   2901\u001b[0m         \u001b[0;32mif\u001b[0m \u001b[0mindexer\u001b[0m\u001b[0;34m.\u001b[0m\u001b[0mndim\u001b[0m \u001b[0;34m>\u001b[0m \u001b[0;36m1\u001b[0m \u001b[0;32mor\u001b[0m \u001b[0mindexer\u001b[0m\u001b[0;34m.\u001b[0m\u001b[0msize\u001b[0m \u001b[0;34m>\u001b[0m \u001b[0;36m1\u001b[0m\u001b[0;34m:\u001b[0m\u001b[0;34m\u001b[0m\u001b[0;34m\u001b[0m\u001b[0m\n",
            "\u001b[0;32mpandas/_libs/index.pyx\u001b[0m in \u001b[0;36mpandas._libs.index.IndexEngine.get_loc\u001b[0;34m()\u001b[0m\n",
            "\u001b[0;32mpandas/_libs/index.pyx\u001b[0m in \u001b[0;36mpandas._libs.index.IndexEngine.get_loc\u001b[0;34m()\u001b[0m\n",
            "\u001b[0;32mpandas/_libs/hashtable_class_helper.pxi\u001b[0m in \u001b[0;36mpandas._libs.hashtable.PyObjectHashTable.get_item\u001b[0;34m()\u001b[0m\n",
            "\u001b[0;32mpandas/_libs/hashtable_class_helper.pxi\u001b[0m in \u001b[0;36mpandas._libs.hashtable.PyObjectHashTable.get_item\u001b[0;34m()\u001b[0m\n",
            "\u001b[0;31mKeyError\u001b[0m: 'Credit_History'"
          ]
        }
      ]
    },
    {
      "cell_type": "code",
      "metadata": {
        "id": "9RxbJPseY5uH",
        "colab_type": "code",
        "outputId": "549e5866-32f4-4b19-cbff-80c0448db216",
        "colab": {
          "base_uri": "https://localhost:8080/",
          "height": 102
        }
      },
      "source": [
        "train['Y']"
      ],
      "execution_count": 43,
      "outputs": [
        {
          "output_type": "execute_result",
          "data": {
            "text/plain": [
              "Credit_History\n",
              "0.0    0.078652\n",
              "1.0    0.795789\n",
              "All    0.682624\n",
              "Name: Y, dtype: float64"
            ]
          },
          "metadata": {
            "tags": []
          },
          "execution_count": 43
        }
      ]
    },
    {
      "cell_type": "code",
      "metadata": {
        "id": "HEcgFrvvZWUi",
        "colab_type": "code",
        "outputId": "12ec4ccb-d363-48e0-b080-92219f092181",
        "colab": {
          "base_uri": "https://localhost:8080/",
          "height": 698
        }
      },
      "source": [
        "#fill in missing values of self_employed\n",
        "train['Self_Employed'].fillna('No',inplace=True)"
      ],
      "execution_count": 24,
      "outputs": [
        {
          "output_type": "error",
          "ename": "KeyError",
          "evalue": "ignored",
          "traceback": [
            "\u001b[0;31m---------------------------------------------------------------------------\u001b[0m",
            "\u001b[0;31mKeyError\u001b[0m                                  Traceback (most recent call last)",
            "\u001b[0;32m/usr/local/lib/python3.6/dist-packages/pandas/core/indexes/base.py\u001b[0m in \u001b[0;36mget_loc\u001b[0;34m(self, key, method, tolerance)\u001b[0m\n\u001b[1;32m   2896\u001b[0m             \u001b[0;32mtry\u001b[0m\u001b[0;34m:\u001b[0m\u001b[0;34m\u001b[0m\u001b[0;34m\u001b[0m\u001b[0m\n\u001b[0;32m-> 2897\u001b[0;31m                 \u001b[0;32mreturn\u001b[0m \u001b[0mself\u001b[0m\u001b[0;34m.\u001b[0m\u001b[0m_engine\u001b[0m\u001b[0;34m.\u001b[0m\u001b[0mget_loc\u001b[0m\u001b[0;34m(\u001b[0m\u001b[0mkey\u001b[0m\u001b[0;34m)\u001b[0m\u001b[0;34m\u001b[0m\u001b[0;34m\u001b[0m\u001b[0m\n\u001b[0m\u001b[1;32m   2898\u001b[0m             \u001b[0;32mexcept\u001b[0m \u001b[0mKeyError\u001b[0m\u001b[0;34m:\u001b[0m\u001b[0;34m\u001b[0m\u001b[0;34m\u001b[0m\u001b[0m\n",
            "\u001b[0;32mpandas/_libs/index.pyx\u001b[0m in \u001b[0;36mpandas._libs.index.IndexEngine.get_loc\u001b[0;34m()\u001b[0m\n",
            "\u001b[0;32mpandas/_libs/index.pyx\u001b[0m in \u001b[0;36mpandas._libs.index.IndexEngine.get_loc\u001b[0;34m()\u001b[0m\n",
            "\u001b[0;32mpandas/_libs/hashtable_class_helper.pxi\u001b[0m in \u001b[0;36mpandas._libs.hashtable.PyObjectHashTable.get_item\u001b[0;34m()\u001b[0m\n",
            "\u001b[0;32mpandas/_libs/hashtable_class_helper.pxi\u001b[0m in \u001b[0;36mpandas._libs.hashtable.PyObjectHashTable.get_item\u001b[0;34m()\u001b[0m\n",
            "\u001b[0;31mKeyError\u001b[0m: 'Self_Employed'",
            "\nDuring handling of the above exception, another exception occurred:\n",
            "\u001b[0;31mKeyError\u001b[0m                                  Traceback (most recent call last)",
            "\u001b[0;32m<ipython-input-24-91bfd103d083>\u001b[0m in \u001b[0;36m<module>\u001b[0;34m()\u001b[0m\n\u001b[0;32m----> 1\u001b[0;31m \u001b[0mtrain\u001b[0m\u001b[0;34m[\u001b[0m\u001b[0;34m'Self_Employed'\u001b[0m\u001b[0;34m]\u001b[0m\u001b[0;34m.\u001b[0m\u001b[0mfillna\u001b[0m\u001b[0;34m(\u001b[0m\u001b[0;34m'No'\u001b[0m\u001b[0;34m,\u001b[0m\u001b[0minplace\u001b[0m\u001b[0;34m=\u001b[0m\u001b[0;32mTrue\u001b[0m\u001b[0;34m)\u001b[0m\u001b[0;34m\u001b[0m\u001b[0;34m\u001b[0m\u001b[0m\n\u001b[0m",
            "\u001b[0;32m/usr/local/lib/python3.6/dist-packages/pandas/core/frame.py\u001b[0m in \u001b[0;36m__getitem__\u001b[0;34m(self, key)\u001b[0m\n\u001b[1;32m   2993\u001b[0m             \u001b[0;32mif\u001b[0m \u001b[0mself\u001b[0m\u001b[0;34m.\u001b[0m\u001b[0mcolumns\u001b[0m\u001b[0;34m.\u001b[0m\u001b[0mnlevels\u001b[0m \u001b[0;34m>\u001b[0m \u001b[0;36m1\u001b[0m\u001b[0;34m:\u001b[0m\u001b[0;34m\u001b[0m\u001b[0;34m\u001b[0m\u001b[0m\n\u001b[1;32m   2994\u001b[0m                 \u001b[0;32mreturn\u001b[0m \u001b[0mself\u001b[0m\u001b[0;34m.\u001b[0m\u001b[0m_getitem_multilevel\u001b[0m\u001b[0;34m(\u001b[0m\u001b[0mkey\u001b[0m\u001b[0;34m)\u001b[0m\u001b[0;34m\u001b[0m\u001b[0;34m\u001b[0m\u001b[0m\n\u001b[0;32m-> 2995\u001b[0;31m             \u001b[0mindexer\u001b[0m \u001b[0;34m=\u001b[0m \u001b[0mself\u001b[0m\u001b[0;34m.\u001b[0m\u001b[0mcolumns\u001b[0m\u001b[0;34m.\u001b[0m\u001b[0mget_loc\u001b[0m\u001b[0;34m(\u001b[0m\u001b[0mkey\u001b[0m\u001b[0;34m)\u001b[0m\u001b[0;34m\u001b[0m\u001b[0;34m\u001b[0m\u001b[0m\n\u001b[0m\u001b[1;32m   2996\u001b[0m             \u001b[0;32mif\u001b[0m \u001b[0mis_integer\u001b[0m\u001b[0;34m(\u001b[0m\u001b[0mindexer\u001b[0m\u001b[0;34m)\u001b[0m\u001b[0;34m:\u001b[0m\u001b[0;34m\u001b[0m\u001b[0;34m\u001b[0m\u001b[0m\n\u001b[1;32m   2997\u001b[0m                 \u001b[0mindexer\u001b[0m \u001b[0;34m=\u001b[0m \u001b[0;34m[\u001b[0m\u001b[0mindexer\u001b[0m\u001b[0;34m]\u001b[0m\u001b[0;34m\u001b[0m\u001b[0;34m\u001b[0m\u001b[0m\n",
            "\u001b[0;32m/usr/local/lib/python3.6/dist-packages/pandas/core/indexes/base.py\u001b[0m in \u001b[0;36mget_loc\u001b[0;34m(self, key, method, tolerance)\u001b[0m\n\u001b[1;32m   2897\u001b[0m                 \u001b[0;32mreturn\u001b[0m \u001b[0mself\u001b[0m\u001b[0;34m.\u001b[0m\u001b[0m_engine\u001b[0m\u001b[0;34m.\u001b[0m\u001b[0mget_loc\u001b[0m\u001b[0;34m(\u001b[0m\u001b[0mkey\u001b[0m\u001b[0;34m)\u001b[0m\u001b[0;34m\u001b[0m\u001b[0;34m\u001b[0m\u001b[0m\n\u001b[1;32m   2898\u001b[0m             \u001b[0;32mexcept\u001b[0m \u001b[0mKeyError\u001b[0m\u001b[0;34m:\u001b[0m\u001b[0;34m\u001b[0m\u001b[0;34m\u001b[0m\u001b[0m\n\u001b[0;32m-> 2899\u001b[0;31m                 \u001b[0;32mreturn\u001b[0m \u001b[0mself\u001b[0m\u001b[0;34m.\u001b[0m\u001b[0m_engine\u001b[0m\u001b[0;34m.\u001b[0m\u001b[0mget_loc\u001b[0m\u001b[0;34m(\u001b[0m\u001b[0mself\u001b[0m\u001b[0;34m.\u001b[0m\u001b[0m_maybe_cast_indexer\u001b[0m\u001b[0;34m(\u001b[0m\u001b[0mkey\u001b[0m\u001b[0;34m)\u001b[0m\u001b[0;34m)\u001b[0m\u001b[0;34m\u001b[0m\u001b[0;34m\u001b[0m\u001b[0m\n\u001b[0m\u001b[1;32m   2900\u001b[0m         \u001b[0mindexer\u001b[0m \u001b[0;34m=\u001b[0m \u001b[0mself\u001b[0m\u001b[0;34m.\u001b[0m\u001b[0mget_indexer\u001b[0m\u001b[0;34m(\u001b[0m\u001b[0;34m[\u001b[0m\u001b[0mkey\u001b[0m\u001b[0;34m]\u001b[0m\u001b[0;34m,\u001b[0m \u001b[0mmethod\u001b[0m\u001b[0;34m=\u001b[0m\u001b[0mmethod\u001b[0m\u001b[0;34m,\u001b[0m \u001b[0mtolerance\u001b[0m\u001b[0;34m=\u001b[0m\u001b[0mtolerance\u001b[0m\u001b[0;34m)\u001b[0m\u001b[0;34m\u001b[0m\u001b[0;34m\u001b[0m\u001b[0m\n\u001b[1;32m   2901\u001b[0m         \u001b[0;32mif\u001b[0m \u001b[0mindexer\u001b[0m\u001b[0;34m.\u001b[0m\u001b[0mndim\u001b[0m \u001b[0;34m>\u001b[0m \u001b[0;36m1\u001b[0m \u001b[0;32mor\u001b[0m \u001b[0mindexer\u001b[0m\u001b[0;34m.\u001b[0m\u001b[0msize\u001b[0m \u001b[0;34m>\u001b[0m \u001b[0;36m1\u001b[0m\u001b[0;34m:\u001b[0m\u001b[0;34m\u001b[0m\u001b[0;34m\u001b[0m\u001b[0m\n",
            "\u001b[0;32mpandas/_libs/index.pyx\u001b[0m in \u001b[0;36mpandas._libs.index.IndexEngine.get_loc\u001b[0;34m()\u001b[0m\n",
            "\u001b[0;32mpandas/_libs/index.pyx\u001b[0m in \u001b[0;36mpandas._libs.index.IndexEngine.get_loc\u001b[0;34m()\u001b[0m\n",
            "\u001b[0;32mpandas/_libs/hashtable_class_helper.pxi\u001b[0m in \u001b[0;36mpandas._libs.hashtable.PyObjectHashTable.get_item\u001b[0;34m()\u001b[0m\n",
            "\u001b[0;32mpandas/_libs/hashtable_class_helper.pxi\u001b[0m in \u001b[0;36mpandas._libs.hashtable.PyObjectHashTable.get_item\u001b[0;34m()\u001b[0m\n",
            "\u001b[0;31mKeyError\u001b[0m: 'Self_Employed'"
          ]
        }
      ]
    },
    {
      "cell_type": "markdown",
      "metadata": {
        "id": "DE6yMy2JdfDR",
        "colab_type": "text"
      },
      "source": [
        "Outliners of Loan Amount and Applicant Income"
      ]
    },
    {
      "cell_type": "code",
      "metadata": {
        "id": "1EEAxPEddhCp",
        "colab_type": "code",
        "outputId": "f8697020-4057-4ce6-f00f-542c2d774580",
        "colab": {
          "base_uri": "https://localhost:8080/",
          "height": 698
        }
      },
      "source": [
        "train['TotalIncome'] = train['ApplicantIncome'] + train ['CoapplicantIncome']\n",
        "train['LoanAmount'].hist(bins = 50)"
      ],
      "execution_count": 32,
      "outputs": [
        {
          "output_type": "error",
          "ename": "KeyError",
          "evalue": "ignored",
          "traceback": [
            "\u001b[0;31m---------------------------------------------------------------------------\u001b[0m",
            "\u001b[0;31mKeyError\u001b[0m                                  Traceback (most recent call last)",
            "\u001b[0;32m/usr/local/lib/python3.6/dist-packages/pandas/core/indexes/base.py\u001b[0m in \u001b[0;36mget_loc\u001b[0;34m(self, key, method, tolerance)\u001b[0m\n\u001b[1;32m   2896\u001b[0m             \u001b[0;32mtry\u001b[0m\u001b[0;34m:\u001b[0m\u001b[0;34m\u001b[0m\u001b[0;34m\u001b[0m\u001b[0m\n\u001b[0;32m-> 2897\u001b[0;31m                 \u001b[0;32mreturn\u001b[0m \u001b[0mself\u001b[0m\u001b[0;34m.\u001b[0m\u001b[0m_engine\u001b[0m\u001b[0;34m.\u001b[0m\u001b[0mget_loc\u001b[0m\u001b[0;34m(\u001b[0m\u001b[0mkey\u001b[0m\u001b[0;34m)\u001b[0m\u001b[0;34m\u001b[0m\u001b[0;34m\u001b[0m\u001b[0m\n\u001b[0m\u001b[1;32m   2898\u001b[0m             \u001b[0;32mexcept\u001b[0m \u001b[0mKeyError\u001b[0m\u001b[0;34m:\u001b[0m\u001b[0;34m\u001b[0m\u001b[0;34m\u001b[0m\u001b[0m\n",
            "\u001b[0;32mpandas/_libs/index.pyx\u001b[0m in \u001b[0;36mpandas._libs.index.IndexEngine.get_loc\u001b[0;34m()\u001b[0m\n",
            "\u001b[0;32mpandas/_libs/index.pyx\u001b[0m in \u001b[0;36mpandas._libs.index.IndexEngine.get_loc\u001b[0;34m()\u001b[0m\n",
            "\u001b[0;32mpandas/_libs/hashtable_class_helper.pxi\u001b[0m in \u001b[0;36mpandas._libs.hashtable.PyObjectHashTable.get_item\u001b[0;34m()\u001b[0m\n",
            "\u001b[0;32mpandas/_libs/hashtable_class_helper.pxi\u001b[0m in \u001b[0;36mpandas._libs.hashtable.PyObjectHashTable.get_item\u001b[0;34m()\u001b[0m\n",
            "\u001b[0;31mKeyError\u001b[0m: 'ApplicantIncome'",
            "\nDuring handling of the above exception, another exception occurred:\n",
            "\u001b[0;31mKeyError\u001b[0m                                  Traceback (most recent call last)",
            "\u001b[0;32m<ipython-input-32-dcc7b9d7152e>\u001b[0m in \u001b[0;36m<module>\u001b[0;34m()\u001b[0m\n\u001b[0;32m----> 1\u001b[0;31m \u001b[0mtrain\u001b[0m\u001b[0;34m[\u001b[0m\u001b[0;34m'TotalIncome'\u001b[0m\u001b[0;34m]\u001b[0m \u001b[0;34m=\u001b[0m \u001b[0mtrain\u001b[0m\u001b[0;34m[\u001b[0m\u001b[0;34m'ApplicantIncome'\u001b[0m\u001b[0;34m]\u001b[0m \u001b[0;34m+\u001b[0m \u001b[0mtrain\u001b[0m \u001b[0;34m[\u001b[0m\u001b[0;34m'CoapplicantIncome'\u001b[0m\u001b[0;34m]\u001b[0m\u001b[0;34m\u001b[0m\u001b[0;34m\u001b[0m\u001b[0m\n\u001b[0m\u001b[1;32m      2\u001b[0m \u001b[0mtrain\u001b[0m\u001b[0;34m[\u001b[0m\u001b[0;34m'LoanAmount'\u001b[0m\u001b[0;34m]\u001b[0m\u001b[0;34m.\u001b[0m\u001b[0mhist\u001b[0m\u001b[0;34m(\u001b[0m\u001b[0mbins\u001b[0m \u001b[0;34m=\u001b[0m \u001b[0;36m50\u001b[0m\u001b[0;34m)\u001b[0m\u001b[0;34m\u001b[0m\u001b[0;34m\u001b[0m\u001b[0m\n",
            "\u001b[0;32m/usr/local/lib/python3.6/dist-packages/pandas/core/frame.py\u001b[0m in \u001b[0;36m__getitem__\u001b[0;34m(self, key)\u001b[0m\n\u001b[1;32m   2993\u001b[0m             \u001b[0;32mif\u001b[0m \u001b[0mself\u001b[0m\u001b[0;34m.\u001b[0m\u001b[0mcolumns\u001b[0m\u001b[0;34m.\u001b[0m\u001b[0mnlevels\u001b[0m \u001b[0;34m>\u001b[0m \u001b[0;36m1\u001b[0m\u001b[0;34m:\u001b[0m\u001b[0;34m\u001b[0m\u001b[0;34m\u001b[0m\u001b[0m\n\u001b[1;32m   2994\u001b[0m                 \u001b[0;32mreturn\u001b[0m \u001b[0mself\u001b[0m\u001b[0;34m.\u001b[0m\u001b[0m_getitem_multilevel\u001b[0m\u001b[0;34m(\u001b[0m\u001b[0mkey\u001b[0m\u001b[0;34m)\u001b[0m\u001b[0;34m\u001b[0m\u001b[0;34m\u001b[0m\u001b[0m\n\u001b[0;32m-> 2995\u001b[0;31m             \u001b[0mindexer\u001b[0m \u001b[0;34m=\u001b[0m \u001b[0mself\u001b[0m\u001b[0;34m.\u001b[0m\u001b[0mcolumns\u001b[0m\u001b[0;34m.\u001b[0m\u001b[0mget_loc\u001b[0m\u001b[0;34m(\u001b[0m\u001b[0mkey\u001b[0m\u001b[0;34m)\u001b[0m\u001b[0;34m\u001b[0m\u001b[0;34m\u001b[0m\u001b[0m\n\u001b[0m\u001b[1;32m   2996\u001b[0m             \u001b[0;32mif\u001b[0m \u001b[0mis_integer\u001b[0m\u001b[0;34m(\u001b[0m\u001b[0mindexer\u001b[0m\u001b[0;34m)\u001b[0m\u001b[0;34m:\u001b[0m\u001b[0;34m\u001b[0m\u001b[0;34m\u001b[0m\u001b[0m\n\u001b[1;32m   2997\u001b[0m                 \u001b[0mindexer\u001b[0m \u001b[0;34m=\u001b[0m \u001b[0;34m[\u001b[0m\u001b[0mindexer\u001b[0m\u001b[0;34m]\u001b[0m\u001b[0;34m\u001b[0m\u001b[0;34m\u001b[0m\u001b[0m\n",
            "\u001b[0;32m/usr/local/lib/python3.6/dist-packages/pandas/core/indexes/base.py\u001b[0m in \u001b[0;36mget_loc\u001b[0;34m(self, key, method, tolerance)\u001b[0m\n\u001b[1;32m   2897\u001b[0m                 \u001b[0;32mreturn\u001b[0m \u001b[0mself\u001b[0m\u001b[0;34m.\u001b[0m\u001b[0m_engine\u001b[0m\u001b[0;34m.\u001b[0m\u001b[0mget_loc\u001b[0m\u001b[0;34m(\u001b[0m\u001b[0mkey\u001b[0m\u001b[0;34m)\u001b[0m\u001b[0;34m\u001b[0m\u001b[0;34m\u001b[0m\u001b[0m\n\u001b[1;32m   2898\u001b[0m             \u001b[0;32mexcept\u001b[0m \u001b[0mKeyError\u001b[0m\u001b[0;34m:\u001b[0m\u001b[0;34m\u001b[0m\u001b[0;34m\u001b[0m\u001b[0m\n\u001b[0;32m-> 2899\u001b[0;31m                 \u001b[0;32mreturn\u001b[0m \u001b[0mself\u001b[0m\u001b[0;34m.\u001b[0m\u001b[0m_engine\u001b[0m\u001b[0;34m.\u001b[0m\u001b[0mget_loc\u001b[0m\u001b[0;34m(\u001b[0m\u001b[0mself\u001b[0m\u001b[0;34m.\u001b[0m\u001b[0m_maybe_cast_indexer\u001b[0m\u001b[0;34m(\u001b[0m\u001b[0mkey\u001b[0m\u001b[0;34m)\u001b[0m\u001b[0;34m)\u001b[0m\u001b[0;34m\u001b[0m\u001b[0;34m\u001b[0m\u001b[0m\n\u001b[0m\u001b[1;32m   2900\u001b[0m         \u001b[0mindexer\u001b[0m \u001b[0;34m=\u001b[0m \u001b[0mself\u001b[0m\u001b[0;34m.\u001b[0m\u001b[0mget_indexer\u001b[0m\u001b[0;34m(\u001b[0m\u001b[0;34m[\u001b[0m\u001b[0mkey\u001b[0m\u001b[0;34m]\u001b[0m\u001b[0;34m,\u001b[0m \u001b[0mmethod\u001b[0m\u001b[0;34m=\u001b[0m\u001b[0mmethod\u001b[0m\u001b[0;34m,\u001b[0m \u001b[0mtolerance\u001b[0m\u001b[0;34m=\u001b[0m\u001b[0mtolerance\u001b[0m\u001b[0;34m)\u001b[0m\u001b[0;34m\u001b[0m\u001b[0;34m\u001b[0m\u001b[0m\n\u001b[1;32m   2901\u001b[0m         \u001b[0;32mif\u001b[0m \u001b[0mindexer\u001b[0m\u001b[0;34m.\u001b[0m\u001b[0mndim\u001b[0m \u001b[0;34m>\u001b[0m \u001b[0;36m1\u001b[0m \u001b[0;32mor\u001b[0m \u001b[0mindexer\u001b[0m\u001b[0;34m.\u001b[0m\u001b[0msize\u001b[0m \u001b[0;34m>\u001b[0m \u001b[0;36m1\u001b[0m\u001b[0;34m:\u001b[0m\u001b[0;34m\u001b[0m\u001b[0;34m\u001b[0m\u001b[0m\n",
            "\u001b[0;32mpandas/_libs/index.pyx\u001b[0m in \u001b[0;36mpandas._libs.index.IndexEngine.get_loc\u001b[0;34m()\u001b[0m\n",
            "\u001b[0;32mpandas/_libs/index.pyx\u001b[0m in \u001b[0;36mpandas._libs.index.IndexEngine.get_loc\u001b[0;34m()\u001b[0m\n",
            "\u001b[0;32mpandas/_libs/hashtable_class_helper.pxi\u001b[0m in \u001b[0;36mpandas._libs.hashtable.PyObjectHashTable.get_item\u001b[0;34m()\u001b[0m\n",
            "\u001b[0;32mpandas/_libs/hashtable_class_helper.pxi\u001b[0m in \u001b[0;36mpandas._libs.hashtable.PyObjectHashTable.get_item\u001b[0;34m()\u001b[0m\n",
            "\u001b[0;31mKeyError\u001b[0m: 'ApplicantIncome'"
          ]
        }
      ]
    },
    {
      "cell_type": "code",
      "metadata": {
        "id": "pTmlR7nJp4pQ",
        "colab_type": "code",
        "outputId": "8b9f2a2c-2539-47bd-bf93-653b1e32e259",
        "colab": {
          "base_uri": "https://localhost:8080/",
          "height": 698
        }
      },
      "source": [
        "credit = train['Credit_History'].value_counts (ascending = True)\n",
        "credit2 = train.pivot_table(values= 'Loan_Status',index = ['Credit_History'], aggfunc=lambda x:x.map({'Y': 1, 'N' : 0}).mean())\n",
        "print ('Frequency Table for Credit History:')\n",
        "print (credit)\n",
        "print ('\\n Probility of getting loan for each credit Histroy class:')\n",
        "print (credit2)"
      ],
      "execution_count": 26,
      "outputs": [
        {
          "output_type": "error",
          "ename": "KeyError",
          "evalue": "ignored",
          "traceback": [
            "\u001b[0;31m---------------------------------------------------------------------------\u001b[0m",
            "\u001b[0;31mKeyError\u001b[0m                                  Traceback (most recent call last)",
            "\u001b[0;32m/usr/local/lib/python3.6/dist-packages/pandas/core/indexes/base.py\u001b[0m in \u001b[0;36mget_loc\u001b[0;34m(self, key, method, tolerance)\u001b[0m\n\u001b[1;32m   2896\u001b[0m             \u001b[0;32mtry\u001b[0m\u001b[0;34m:\u001b[0m\u001b[0;34m\u001b[0m\u001b[0;34m\u001b[0m\u001b[0m\n\u001b[0;32m-> 2897\u001b[0;31m                 \u001b[0;32mreturn\u001b[0m \u001b[0mself\u001b[0m\u001b[0;34m.\u001b[0m\u001b[0m_engine\u001b[0m\u001b[0;34m.\u001b[0m\u001b[0mget_loc\u001b[0m\u001b[0;34m(\u001b[0m\u001b[0mkey\u001b[0m\u001b[0;34m)\u001b[0m\u001b[0;34m\u001b[0m\u001b[0;34m\u001b[0m\u001b[0m\n\u001b[0m\u001b[1;32m   2898\u001b[0m             \u001b[0;32mexcept\u001b[0m \u001b[0mKeyError\u001b[0m\u001b[0;34m:\u001b[0m\u001b[0;34m\u001b[0m\u001b[0;34m\u001b[0m\u001b[0m\n",
            "\u001b[0;32mpandas/_libs/index.pyx\u001b[0m in \u001b[0;36mpandas._libs.index.IndexEngine.get_loc\u001b[0;34m()\u001b[0m\n",
            "\u001b[0;32mpandas/_libs/index.pyx\u001b[0m in \u001b[0;36mpandas._libs.index.IndexEngine.get_loc\u001b[0;34m()\u001b[0m\n",
            "\u001b[0;32mpandas/_libs/hashtable_class_helper.pxi\u001b[0m in \u001b[0;36mpandas._libs.hashtable.PyObjectHashTable.get_item\u001b[0;34m()\u001b[0m\n",
            "\u001b[0;32mpandas/_libs/hashtable_class_helper.pxi\u001b[0m in \u001b[0;36mpandas._libs.hashtable.PyObjectHashTable.get_item\u001b[0;34m()\u001b[0m\n",
            "\u001b[0;31mKeyError\u001b[0m: 'Credit_History'",
            "\nDuring handling of the above exception, another exception occurred:\n",
            "\u001b[0;31mKeyError\u001b[0m                                  Traceback (most recent call last)",
            "\u001b[0;32m<ipython-input-26-7fd9a9b52f42>\u001b[0m in \u001b[0;36m<module>\u001b[0;34m()\u001b[0m\n\u001b[0;32m----> 1\u001b[0;31m \u001b[0mcredit\u001b[0m \u001b[0;34m=\u001b[0m \u001b[0mtrain\u001b[0m\u001b[0;34m[\u001b[0m\u001b[0;34m'Credit_History'\u001b[0m\u001b[0;34m]\u001b[0m\u001b[0;34m.\u001b[0m\u001b[0mvalue_counts\u001b[0m \u001b[0;34m(\u001b[0m\u001b[0mascending\u001b[0m \u001b[0;34m=\u001b[0m \u001b[0;32mTrue\u001b[0m\u001b[0;34m)\u001b[0m\u001b[0;34m\u001b[0m\u001b[0;34m\u001b[0m\u001b[0m\n\u001b[0m\u001b[1;32m      2\u001b[0m \u001b[0mcredit2\u001b[0m \u001b[0;34m=\u001b[0m \u001b[0mtrain\u001b[0m\u001b[0;34m.\u001b[0m\u001b[0mpivot_table\u001b[0m\u001b[0;34m(\u001b[0m\u001b[0mvalues\u001b[0m\u001b[0;34m=\u001b[0m \u001b[0;34m'Loan_Status'\u001b[0m\u001b[0;34m,\u001b[0m\u001b[0mindex\u001b[0m \u001b[0;34m=\u001b[0m \u001b[0;34m[\u001b[0m\u001b[0;34m'Credit_History'\u001b[0m\u001b[0;34m]\u001b[0m\u001b[0;34m,\u001b[0m \u001b[0maggfunc\u001b[0m\u001b[0;34m=\u001b[0m\u001b[0;32mlambda\u001b[0m \u001b[0mx\u001b[0m\u001b[0;34m:\u001b[0m\u001b[0mx\u001b[0m\u001b[0;34m.\u001b[0m\u001b[0mmap\u001b[0m\u001b[0;34m(\u001b[0m\u001b[0;34m{\u001b[0m\u001b[0;34m'Y'\u001b[0m\u001b[0;34m:\u001b[0m \u001b[0;36m1\u001b[0m\u001b[0;34m,\u001b[0m \u001b[0;34m'N'\u001b[0m \u001b[0;34m:\u001b[0m \u001b[0;36m0\u001b[0m\u001b[0;34m}\u001b[0m\u001b[0;34m)\u001b[0m\u001b[0;34m.\u001b[0m\u001b[0mmean\u001b[0m\u001b[0;34m(\u001b[0m\u001b[0;34m)\u001b[0m\u001b[0;34m)\u001b[0m\u001b[0;34m\u001b[0m\u001b[0;34m\u001b[0m\u001b[0m\n\u001b[1;32m      3\u001b[0m \u001b[0mprint\u001b[0m \u001b[0;34m(\u001b[0m\u001b[0;34m'Frequency Table for Credit History:'\u001b[0m\u001b[0;34m)\u001b[0m\u001b[0;34m\u001b[0m\u001b[0;34m\u001b[0m\u001b[0m\n\u001b[1;32m      4\u001b[0m \u001b[0mprint\u001b[0m \u001b[0;34m(\u001b[0m\u001b[0mcredit\u001b[0m\u001b[0;34m)\u001b[0m\u001b[0;34m\u001b[0m\u001b[0;34m\u001b[0m\u001b[0m\n\u001b[1;32m      5\u001b[0m \u001b[0mprint\u001b[0m \u001b[0;34m(\u001b[0m\u001b[0;34m'\\n Probility of getting loan for each credit Histroy class:'\u001b[0m\u001b[0;34m)\u001b[0m\u001b[0;34m\u001b[0m\u001b[0;34m\u001b[0m\u001b[0m\n",
            "\u001b[0;32m/usr/local/lib/python3.6/dist-packages/pandas/core/frame.py\u001b[0m in \u001b[0;36m__getitem__\u001b[0;34m(self, key)\u001b[0m\n\u001b[1;32m   2993\u001b[0m             \u001b[0;32mif\u001b[0m \u001b[0mself\u001b[0m\u001b[0;34m.\u001b[0m\u001b[0mcolumns\u001b[0m\u001b[0;34m.\u001b[0m\u001b[0mnlevels\u001b[0m \u001b[0;34m>\u001b[0m \u001b[0;36m1\u001b[0m\u001b[0;34m:\u001b[0m\u001b[0;34m\u001b[0m\u001b[0;34m\u001b[0m\u001b[0m\n\u001b[1;32m   2994\u001b[0m                 \u001b[0;32mreturn\u001b[0m \u001b[0mself\u001b[0m\u001b[0;34m.\u001b[0m\u001b[0m_getitem_multilevel\u001b[0m\u001b[0;34m(\u001b[0m\u001b[0mkey\u001b[0m\u001b[0;34m)\u001b[0m\u001b[0;34m\u001b[0m\u001b[0;34m\u001b[0m\u001b[0m\n\u001b[0;32m-> 2995\u001b[0;31m             \u001b[0mindexer\u001b[0m \u001b[0;34m=\u001b[0m \u001b[0mself\u001b[0m\u001b[0;34m.\u001b[0m\u001b[0mcolumns\u001b[0m\u001b[0;34m.\u001b[0m\u001b[0mget_loc\u001b[0m\u001b[0;34m(\u001b[0m\u001b[0mkey\u001b[0m\u001b[0;34m)\u001b[0m\u001b[0;34m\u001b[0m\u001b[0;34m\u001b[0m\u001b[0m\n\u001b[0m\u001b[1;32m   2996\u001b[0m             \u001b[0;32mif\u001b[0m \u001b[0mis_integer\u001b[0m\u001b[0;34m(\u001b[0m\u001b[0mindexer\u001b[0m\u001b[0;34m)\u001b[0m\u001b[0;34m:\u001b[0m\u001b[0;34m\u001b[0m\u001b[0;34m\u001b[0m\u001b[0m\n\u001b[1;32m   2997\u001b[0m                 \u001b[0mindexer\u001b[0m \u001b[0;34m=\u001b[0m \u001b[0;34m[\u001b[0m\u001b[0mindexer\u001b[0m\u001b[0;34m]\u001b[0m\u001b[0;34m\u001b[0m\u001b[0;34m\u001b[0m\u001b[0m\n",
            "\u001b[0;32m/usr/local/lib/python3.6/dist-packages/pandas/core/indexes/base.py\u001b[0m in \u001b[0;36mget_loc\u001b[0;34m(self, key, method, tolerance)\u001b[0m\n\u001b[1;32m   2897\u001b[0m                 \u001b[0;32mreturn\u001b[0m \u001b[0mself\u001b[0m\u001b[0;34m.\u001b[0m\u001b[0m_engine\u001b[0m\u001b[0;34m.\u001b[0m\u001b[0mget_loc\u001b[0m\u001b[0;34m(\u001b[0m\u001b[0mkey\u001b[0m\u001b[0;34m)\u001b[0m\u001b[0;34m\u001b[0m\u001b[0;34m\u001b[0m\u001b[0m\n\u001b[1;32m   2898\u001b[0m             \u001b[0;32mexcept\u001b[0m \u001b[0mKeyError\u001b[0m\u001b[0;34m:\u001b[0m\u001b[0;34m\u001b[0m\u001b[0;34m\u001b[0m\u001b[0m\n\u001b[0;32m-> 2899\u001b[0;31m                 \u001b[0;32mreturn\u001b[0m \u001b[0mself\u001b[0m\u001b[0;34m.\u001b[0m\u001b[0m_engine\u001b[0m\u001b[0;34m.\u001b[0m\u001b[0mget_loc\u001b[0m\u001b[0;34m(\u001b[0m\u001b[0mself\u001b[0m\u001b[0;34m.\u001b[0m\u001b[0m_maybe_cast_indexer\u001b[0m\u001b[0;34m(\u001b[0m\u001b[0mkey\u001b[0m\u001b[0;34m)\u001b[0m\u001b[0;34m)\u001b[0m\u001b[0;34m\u001b[0m\u001b[0;34m\u001b[0m\u001b[0m\n\u001b[0m\u001b[1;32m   2900\u001b[0m         \u001b[0mindexer\u001b[0m \u001b[0;34m=\u001b[0m \u001b[0mself\u001b[0m\u001b[0;34m.\u001b[0m\u001b[0mget_indexer\u001b[0m\u001b[0;34m(\u001b[0m\u001b[0;34m[\u001b[0m\u001b[0mkey\u001b[0m\u001b[0;34m]\u001b[0m\u001b[0;34m,\u001b[0m \u001b[0mmethod\u001b[0m\u001b[0;34m=\u001b[0m\u001b[0mmethod\u001b[0m\u001b[0;34m,\u001b[0m \u001b[0mtolerance\u001b[0m\u001b[0;34m=\u001b[0m\u001b[0mtolerance\u001b[0m\u001b[0;34m)\u001b[0m\u001b[0;34m\u001b[0m\u001b[0;34m\u001b[0m\u001b[0m\n\u001b[1;32m   2901\u001b[0m         \u001b[0;32mif\u001b[0m \u001b[0mindexer\u001b[0m\u001b[0;34m.\u001b[0m\u001b[0mndim\u001b[0m \u001b[0;34m>\u001b[0m \u001b[0;36m1\u001b[0m \u001b[0;32mor\u001b[0m \u001b[0mindexer\u001b[0m\u001b[0;34m.\u001b[0m\u001b[0msize\u001b[0m \u001b[0;34m>\u001b[0m \u001b[0;36m1\u001b[0m\u001b[0;34m:\u001b[0m\u001b[0;34m\u001b[0m\u001b[0;34m\u001b[0m\u001b[0m\n",
            "\u001b[0;32mpandas/_libs/index.pyx\u001b[0m in \u001b[0;36mpandas._libs.index.IndexEngine.get_loc\u001b[0;34m()\u001b[0m\n",
            "\u001b[0;32mpandas/_libs/index.pyx\u001b[0m in \u001b[0;36mpandas._libs.index.IndexEngine.get_loc\u001b[0;34m()\u001b[0m\n",
            "\u001b[0;32mpandas/_libs/hashtable_class_helper.pxi\u001b[0m in \u001b[0;36mpandas._libs.hashtable.PyObjectHashTable.get_item\u001b[0;34m()\u001b[0m\n",
            "\u001b[0;32mpandas/_libs/hashtable_class_helper.pxi\u001b[0m in \u001b[0;36mpandas._libs.hashtable.PyObjectHashTable.get_item\u001b[0;34m()\u001b[0m\n",
            "\u001b[0;31mKeyError\u001b[0m: 'Credit_History'"
          ]
        }
      ]
    },
    {
      "cell_type": "code",
      "metadata": {
        "id": "WDr_j5Bv0Il1",
        "colab_type": "code",
        "outputId": "59ccc4ba-9906-474c-c785-2fcab540f927",
        "colab": {
          "base_uri": "https://localhost:8080/",
          "height": 102
        }
      },
      "source": [
        "#To identify missing data\n",
        "train.apply(lambda x :sum(x.isnull()),axis = 0)"
      ],
      "execution_count": 27,
      "outputs": [
        {
          "output_type": "execute_result",
          "data": {
            "text/plain": [
              "Loan_Status\n",
              "N      0\n",
              "Y      0\n",
              "All    0\n",
              "dtype: int64"
            ]
          },
          "metadata": {
            "tags": []
          },
          "execution_count": 27
        }
      ]
    },
    {
      "cell_type": "markdown",
      "metadata": {
        "id": "9mcPF5uM2W10",
        "colab_type": "text"
      },
      "source": [
        "To fill missing values"
      ]
    },
    {
      "cell_type": "code",
      "metadata": {
        "id": "X0AvBw6u2JtS",
        "colab_type": "code",
        "colab": {}
      },
      "source": [
        "train['LoanAmount'].fillna(train['LoanAmount'].mean(), inplace = True)"
      ],
      "execution_count": 0,
      "outputs": []
    },
    {
      "cell_type": "markdown",
      "metadata": {
        "id": "rgtCAzOCJKP6",
        "colab_type": "text"
      },
      "source": [
        "To deciede what to replace missing values with.\n"
      ]
    },
    {
      "cell_type": "code",
      "metadata": {
        "id": "w58eNYqTIyR3",
        "colab_type": "code",
        "outputId": "24c3ba4a-decd-4bfa-f083-4bb90419f705",
        "colab": {
          "base_uri": "https://localhost:8080/",
          "height": 68
        }
      },
      "source": [
        "train['Self_Employed'].value_counts()"
      ],
      "execution_count": 0,
      "outputs": [
        {
          "output_type": "execute_result",
          "data": {
            "text/plain": [
              "No     500\n",
              "Yes     82\n",
              "Name: Self_Employed, dtype: int64"
            ]
          },
          "metadata": {
            "tags": []
          },
          "execution_count": 41
        }
      ]
    },
    {
      "cell_type": "code",
      "metadata": {
        "id": "oNA6yoaYJSt1",
        "colab_type": "code",
        "outputId": "36f7f703-a437-470f-bce5-a6ae64c931d4",
        "colab": {
          "base_uri": "https://localhost:8080/",
          "height": 164
        }
      },
      "source": [
        "train('Self_Employed'.fillna('No',inplace = True))"
      ],
      "execution_count": 0,
      "outputs": [
        {
          "output_type": "error",
          "ename": "AttributeError",
          "evalue": "ignored",
          "traceback": [
            "\u001b[0;31m---------------------------------------------------------------------------\u001b[0m",
            "\u001b[0;31mAttributeError\u001b[0m                            Traceback (most recent call last)",
            "\u001b[0;32m<ipython-input-43-b72049b4e7e9>\u001b[0m in \u001b[0;36m<module>\u001b[0;34m()\u001b[0m\n\u001b[0;32m----> 1\u001b[0;31m \u001b[0mtrain\u001b[0m\u001b[0;34m(\u001b[0m\u001b[0;34m'Self_Employed'\u001b[0m\u001b[0;34m.\u001b[0m\u001b[0mfillna\u001b[0m\u001b[0;34m(\u001b[0m\u001b[0;34m'No'\u001b[0m\u001b[0;34m,\u001b[0m\u001b[0minplace\u001b[0m \u001b[0;34m=\u001b[0m \u001b[0;32mTrue\u001b[0m\u001b[0;34m)\u001b[0m\u001b[0;34m)\u001b[0m\u001b[0;34m\u001b[0m\u001b[0;34m\u001b[0m\u001b[0m\n\u001b[0m",
            "\u001b[0;31mAttributeError\u001b[0m: 'str' object has no attribute 'fillna'"
          ]
        }
      ]
    }
  ]
}